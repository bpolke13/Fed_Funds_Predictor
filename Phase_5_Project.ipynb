{
 "cells": [
  {
   "cell_type": "code",
   "execution_count": 1,
   "metadata": {},
   "outputs": [],
   "source": [
    "# Miscellaneous Python Dependencies\n",
    "import itertools\n",
    "import warnings\n",
    "from numbers import Number\n",
    "import os\n",
    "import sys\n",
    "#module_path = os.path.abspath(os.path.join(os.pardir, os.pardir))\n",
    "#if module_path not in sys.path:\n",
    "#    sys.path.append(module_path)\n",
    "\n",
    "# Big Four Data Analysis Frameworks\n",
    "import numpy as np\n",
    "import pandas as pd \n",
    "import matplotlib.pyplot as plt\n",
    "import matplotlib.image as mpimg\n",
    "import seaborn as sns\n",
    "\n",
    "# Additional Data Manipulation Tools\n",
    "# import xlrd\n",
    "from scipy import stats\n",
    "import statsmodels.api as sm\n",
    "\n",
    "\n",
    "# SQL Database Tools\n",
    "import sqlite3\n",
    "# import sqldf\n",
    "\n",
    "%load_ext autoreload\n",
    "%autoreload 2\n",
    "warnings.filterwarnings('ignore')"
   ]
  },
  {
   "cell_type": "code",
   "execution_count": 2,
   "metadata": {},
   "outputs": [],
   "source": [
    "# SciKit-Learn Dependencies (Ml and Data Proc)\n",
    "from sklearn import preprocessing\n",
    "from sklearn.preprocessing import StandardScaler, OneHotEncoder\n",
    "from sklearn.impute import SimpleImputer\n",
    "from sklearn.compose import ColumnTransformer\n",
    "from sklearn.datasets import load_digits, load_sample_images\n",
    "\n",
    "from sklearn.linear_model import LogisticRegression, LinearRegression, Ridge\n",
    "from sklearn.neighbors import KNeighborsClassifier, KNeighborsRegressor\n",
    "from sklearn.tree import DecisionTreeClassifier, DecisionTreeRegressor, plot_tree\n",
    "from sklearn.ensemble import BaggingClassifier, BaggingRegressor, RandomForestClassifier,\\\n",
    "ExtraTreesClassifier, VotingClassifier, StackingRegressor\n",
    "\n",
    "from sklearn.model_selection import train_test_split, GridSearchCV, cross_val_score\n",
    "from sklearn.metrics import accuracy_score, recall_score, precision_score, f1_score\n",
    "from sklearn.metrics import r2_score\n",
    "# NOTE: Removed `sklearn.metrics.plot_confusion_matrix` due to deprecation. Might have to replace later.\n",
    "# NOTE: Removed `sklearn.metrics.roc_auc_curve` and `sklearn.metrics.plot_roc_curve` because it was mean to us.\n",
    "from sklearn.metrics import confusion_matrix, classification_report, ConfusionMatrixDisplay\n",
    "from sklearn.pipeline import Pipeline"
   ]
  },
  {
   "cell_type": "code",
   "execution_count": null,
   "metadata": {},
   "outputs": [],
   "source": []
  },
  {
   "cell_type": "code",
   "execution_count": 4,
   "metadata": {},
   "outputs": [],
   "source": [
    "from sklearn.model_selection import TimeSeriesSplit\n",
    "import datetime as dt"
   ]
  },
  {
   "cell_type": "code",
   "execution_count": 5,
   "metadata": {},
   "outputs": [],
   "source": [
    "CPI_All_df = pd.read_csv('Data\\CPI_All_Items.csv')\n",
    "\n",
    "FF_df = pd.read_csv('Data\\FEDFUNDSRATE.csv')\n",
    "\n",
    "Labor_ofage_df = pd.read_csv('Data\\Labor_25_64.csv')\n",
    "\n",
    "GDP_df = pd.read_csv('Data\\GDP.csv')\n",
    "\n",
    "Labor_Part_df = pd.read_csv('Data\\Labor_Participation.csv')\n",
    "\n",
    "M1_Velo = pd.read_csv('Data\\M1Velo.csv')\n",
    "\n",
    "M2_Real = pd.read_csv('Data\\M2REAL.csv')\n",
    "\n",
    "M2_all = pd.read_csv('Data\\M2SL.csv')\n",
    "\n",
    "M2_Velo = pd.read_csv('Data\\M2Velo.csv')\n",
    "\n",
    "MFG_Cap = pd.read_csv('Data\\Manfcturing_capacity.csv')\n",
    "\n",
    "DG_Orders = pd.read_csv('Data\\Manufacturer_DG_Orders_starts_1992.csv')\n",
    "\n",
    "Median_CPI = pd.read_csv('Data\\Median_CPI.csv')\n",
    "\n",
    "PCE_DG = pd.read_csv('Data\\PCE_Durable_Goods.csv')\n",
    "\n",
    "PCEsansFE = pd.read_csv('Data\\PCE_Sans_FE.csv')\n",
    "\n",
    "Prod_Mfg = pd.read_csv('Data\\Production_manufacturing.csv')\n",
    "\n",
    "Raw_UE = pd.read_csv('Data\\Raw_Unemployment.csv')\n",
    "\n",
    "Stick_CPIsansFE = pd.read_csv('Data\\Sticky_CPI_Sans_FE.csv')\n",
    "\n",
    "fiveyr_diff = pd.read_csv('Data\\T5Y_minus_FF.csv')\n",
    "\n",
    "tenyr_diff = pd.read_csv('Data\\T10Y_minus_FF.csv')\n",
    "\n",
    "UE_Rate = pd.read_csv(r'Data\\Unemployment_Rate.csv')\n",
    "\n",
    "M1 = pd.read_csv('Data\\WM1NS.csv')\n",
    "\n",
    "GBP = pd.read_csv('Data\\EXUSUK.csv')\n",
    "\n",
    "JPY = pd.read_csv('Data\\EXJPUS.csv')\n",
    "\n",
    "EUR = pd.read_csv('Data\\EXUSEU.csv')\n",
    "\n",
    "Inf = pd.read_csv('Data\\Inflation.csv')"
   ]
  },
  {
   "cell_type": "code",
   "execution_count": null,
   "metadata": {},
   "outputs": [],
   "source": []
  },
  {
   "cell_type": "code",
   "execution_count": 6,
   "metadata": {},
   "outputs": [],
   "source": [
    "\n",
    "Inf['DATE']=Inf['Date']"
   ]
  },
  {
   "cell_type": "code",
   "execution_count": 7,
   "metadata": {},
   "outputs": [
    {
     "name": "stdout",
     "output_type": "stream",
     "text": [
      "<class 'pandas.core.frame.DataFrame'>\n",
      "RangeIndex: 396 entries, 0 to 395\n",
      "Data columns (total 2 columns):\n",
      " #   Column            Non-Null Count  Dtype  \n",
      "---  ------            --------------  -----  \n",
      " 0   Inflation Change  396 non-null    float64\n",
      " 1   DATE              396 non-null    object \n",
      "dtypes: float64(1), object(1)\n",
      "memory usage: 6.3+ KB\n"
     ]
    }
   ],
   "source": [
    "Inf = Inf.drop(labels=['Date'], axis=1)\n",
    "Inf.info()"
   ]
  },
  {
   "cell_type": "code",
   "execution_count": 8,
   "metadata": {},
   "outputs": [
    {
     "name": "stdout",
     "output_type": "stream",
     "text": [
      "<class 'pandas.core.frame.DataFrame'>\n",
      "RangeIndex: 408 entries, 0 to 407\n",
      "Data columns (total 2 columns):\n",
      " #   Column           Non-Null Count  Dtype  \n",
      "---  ------           --------------  -----  \n",
      " 0   DATE             408 non-null    object \n",
      " 1   CPALTT01USM657N  408 non-null    float64\n",
      "dtypes: float64(1), object(1)\n",
      "memory usage: 6.5+ KB\n"
     ]
    }
   ],
   "source": [
    "CPI_All_df.info()"
   ]
  },
  {
   "cell_type": "code",
   "execution_count": 279,
   "metadata": {},
   "outputs": [
    {
     "data": {
      "text/html": [
       "<div>\n",
       "<style scoped>\n",
       "    .dataframe tbody tr th:only-of-type {\n",
       "        vertical-align: middle;\n",
       "    }\n",
       "\n",
       "    .dataframe tbody tr th {\n",
       "        vertical-align: top;\n",
       "    }\n",
       "\n",
       "    .dataframe thead th {\n",
       "        text-align: right;\n",
       "    }\n",
       "</style>\n",
       "<table border=\"1\" class=\"dataframe\">\n",
       "  <thead>\n",
       "    <tr style=\"text-align: right;\">\n",
       "      <th></th>\n",
       "      <th>DATE</th>\n",
       "      <th>FEDFUNDS</th>\n",
       "      <th>LNS11300060</th>\n",
       "      <th>GDP</th>\n",
       "      <th>CIVPART</th>\n",
       "      <th>M1V</th>\n",
       "      <th>M2REAL</th>\n",
       "      <th>M2SL</th>\n",
       "      <th>M2V</th>\n",
       "      <th>MCUMFN</th>\n",
       "      <th>...</th>\n",
       "      <th>MEDCPIM158SFRBCLE</th>\n",
       "      <th>PCEDG</th>\n",
       "      <th>DPCCRV1A225NBEA</th>\n",
       "      <th>IPMAN</th>\n",
       "      <th>UNEMPLOY</th>\n",
       "      <th>CORESTICKM159SFRBATL</th>\n",
       "      <th>CCEUSP01USM651N</th>\n",
       "      <th>EXUSUK</th>\n",
       "      <th>EXJPUS</th>\n",
       "      <th>Inflation Change</th>\n",
       "    </tr>\n",
       "  </thead>\n",
       "  <tbody>\n",
       "    <tr>\n",
       "      <th>0</th>\n",
       "      <td>1990-01-01</td>\n",
       "      <td>8.23</td>\n",
       "      <td>83.8</td>\n",
       "      <td>5872.701</td>\n",
       "      <td>66.8</td>\n",
       "      <td>7.356</td>\n",
       "      <td>2483.8</td>\n",
       "      <td>3166.8</td>\n",
       "      <td>1.848</td>\n",
       "      <td>81.3184</td>\n",
       "      <td>...</td>\n",
       "      <td>5.216140</td>\n",
       "      <td>536.4</td>\n",
       "      <td>4.1</td>\n",
       "      <td>57.9700</td>\n",
       "      <td>6752</td>\n",
       "      <td>4.905908</td>\n",
       "      <td>NaN</td>\n",
       "      <td>1.6512</td>\n",
       "      <td>144.9819</td>\n",
       "      <td>0.0</td>\n",
       "    </tr>\n",
       "    <tr>\n",
       "      <th>1</th>\n",
       "      <td>1990-02-01</td>\n",
       "      <td>8.24</td>\n",
       "      <td>83.8</td>\n",
       "      <td>NaN</td>\n",
       "      <td>66.7</td>\n",
       "      <td>NaN</td>\n",
       "      <td>2483.8</td>\n",
       "      <td>3179.2</td>\n",
       "      <td>NaN</td>\n",
       "      <td>82.2381</td>\n",
       "      <td>...</td>\n",
       "      <td>4.981650</td>\n",
       "      <td>505.9</td>\n",
       "      <td>NaN</td>\n",
       "      <td>58.7845</td>\n",
       "      <td>6651</td>\n",
       "      <td>4.917559</td>\n",
       "      <td>NaN</td>\n",
       "      <td>1.6961</td>\n",
       "      <td>145.6932</td>\n",
       "      <td>0.2</td>\n",
       "    </tr>\n",
       "    <tr>\n",
       "      <th>2</th>\n",
       "      <td>1990-03-01</td>\n",
       "      <td>8.28</td>\n",
       "      <td>83.6</td>\n",
       "      <td>NaN</td>\n",
       "      <td>66.7</td>\n",
       "      <td>NaN</td>\n",
       "      <td>2480.6</td>\n",
       "      <td>3190.1</td>\n",
       "      <td>NaN</td>\n",
       "      <td>82.4549</td>\n",
       "      <td>...</td>\n",
       "      <td>5.250468</td>\n",
       "      <td>503.8</td>\n",
       "      <td>NaN</td>\n",
       "      <td>59.0954</td>\n",
       "      <td>6598</td>\n",
       "      <td>5.191525</td>\n",
       "      <td>NaN</td>\n",
       "      <td>1.6245</td>\n",
       "      <td>153.3082</td>\n",
       "      <td>0.3</td>\n",
       "    </tr>\n",
       "    <tr>\n",
       "      <th>3</th>\n",
       "      <td>1990-04-01</td>\n",
       "      <td>8.26</td>\n",
       "      <td>83.5</td>\n",
       "      <td>5960.028</td>\n",
       "      <td>66.6</td>\n",
       "      <td>7.391</td>\n",
       "      <td>2483.8</td>\n",
       "      <td>3201.6</td>\n",
       "      <td>1.859</td>\n",
       "      <td>81.9226</td>\n",
       "      <td>...</td>\n",
       "      <td>5.314374</td>\n",
       "      <td>505.7</td>\n",
       "      <td>NaN</td>\n",
       "      <td>58.8633</td>\n",
       "      <td>6797</td>\n",
       "      <td>5.276985</td>\n",
       "      <td>NaN</td>\n",
       "      <td>1.6372</td>\n",
       "      <td>158.4586</td>\n",
       "      <td>-0.1</td>\n",
       "    </tr>\n",
       "    <tr>\n",
       "      <th>4</th>\n",
       "      <td>1990-05-01</td>\n",
       "      <td>8.18</td>\n",
       "      <td>83.5</td>\n",
       "      <td>NaN</td>\n",
       "      <td>66.6</td>\n",
       "      <td>NaN</td>\n",
       "      <td>2479.2</td>\n",
       "      <td>3200.6</td>\n",
       "      <td>NaN</td>\n",
       "      <td>81.9744</td>\n",
       "      <td>...</td>\n",
       "      <td>3.966494</td>\n",
       "      <td>495.3</td>\n",
       "      <td>NaN</td>\n",
       "      <td>59.0444</td>\n",
       "      <td>6742</td>\n",
       "      <td>5.166732</td>\n",
       "      <td>NaN</td>\n",
       "      <td>1.6774</td>\n",
       "      <td>154.0441</td>\n",
       "      <td>0.0</td>\n",
       "    </tr>\n",
       "    <tr>\n",
       "      <th>...</th>\n",
       "      <td>...</td>\n",
       "      <td>...</td>\n",
       "      <td>...</td>\n",
       "      <td>...</td>\n",
       "      <td>...</td>\n",
       "      <td>...</td>\n",
       "      <td>...</td>\n",
       "      <td>...</td>\n",
       "      <td>...</td>\n",
       "      <td>...</td>\n",
       "      <td>...</td>\n",
       "      <td>...</td>\n",
       "      <td>...</td>\n",
       "      <td>...</td>\n",
       "      <td>...</td>\n",
       "      <td>...</td>\n",
       "      <td>...</td>\n",
       "      <td>...</td>\n",
       "      <td>...</td>\n",
       "      <td>...</td>\n",
       "      <td>...</td>\n",
       "    </tr>\n",
       "    <tr>\n",
       "      <th>391</th>\n",
       "      <td>2022-08-01</td>\n",
       "      <td>2.33</td>\n",
       "      <td>82.8</td>\n",
       "      <td>NaN</td>\n",
       "      <td>62.4</td>\n",
       "      <td>NaN</td>\n",
       "      <td>7337.0</td>\n",
       "      <td>21659.6</td>\n",
       "      <td>NaN</td>\n",
       "      <td>79.4958</td>\n",
       "      <td>...</td>\n",
       "      <td>8.048036</td>\n",
       "      <td>2146.3</td>\n",
       "      <td>NaN</td>\n",
       "      <td>100.9427</td>\n",
       "      <td>5983</td>\n",
       "      <td>5.951312</td>\n",
       "      <td>1.000000</td>\n",
       "      <td>1.1983</td>\n",
       "      <td>135.2835</td>\n",
       "      <td>0.4</td>\n",
       "    </tr>\n",
       "    <tr>\n",
       "      <th>392</th>\n",
       "      <td>2022-09-01</td>\n",
       "      <td>2.56</td>\n",
       "      <td>82.6</td>\n",
       "      <td>NaN</td>\n",
       "      <td>62.3</td>\n",
       "      <td>NaN</td>\n",
       "      <td>7263.6</td>\n",
       "      <td>21525.1</td>\n",
       "      <td>NaN</td>\n",
       "      <td>79.5684</td>\n",
       "      <td>...</td>\n",
       "      <td>7.729216</td>\n",
       "      <td>2156.4</td>\n",
       "      <td>NaN</td>\n",
       "      <td>101.1402</td>\n",
       "      <td>5755</td>\n",
       "      <td>6.348017</td>\n",
       "      <td>1.025851</td>\n",
       "      <td>1.1320</td>\n",
       "      <td>143.2843</td>\n",
       "      <td>0.3</td>\n",
       "    </tr>\n",
       "    <tr>\n",
       "      <th>393</th>\n",
       "      <td>2022-10-01</td>\n",
       "      <td>3.08</td>\n",
       "      <td>82.5</td>\n",
       "      <td>26408.405</td>\n",
       "      <td>62.3</td>\n",
       "      <td>1.323</td>\n",
       "      <td>7195.7</td>\n",
       "      <td>21433.2</td>\n",
       "      <td>1.234</td>\n",
       "      <td>79.5555</td>\n",
       "      <td>...</td>\n",
       "      <td>6.693666</td>\n",
       "      <td>2172.1</td>\n",
       "      <td>NaN</td>\n",
       "      <td>101.2339</td>\n",
       "      <td>5950</td>\n",
       "      <td>6.312946</td>\n",
       "      <td>1.008675</td>\n",
       "      <td>1.1332</td>\n",
       "      <td>147.0515</td>\n",
       "      <td>-0.3</td>\n",
       "    </tr>\n",
       "    <tr>\n",
       "      <th>394</th>\n",
       "      <td>2022-11-01</td>\n",
       "      <td>3.78</td>\n",
       "      <td>82.4</td>\n",
       "      <td>NaN</td>\n",
       "      <td>62.1</td>\n",
       "      <td>NaN</td>\n",
       "      <td>7165.4</td>\n",
       "      <td>21399.3</td>\n",
       "      <td>NaN</td>\n",
       "      <td>78.8698</td>\n",
       "      <td>...</td>\n",
       "      <td>5.916617</td>\n",
       "      <td>2111.5</td>\n",
       "      <td>NaN</td>\n",
       "      <td>100.4743</td>\n",
       "      <td>5956</td>\n",
       "      <td>6.422543</td>\n",
       "      <td>0.963763</td>\n",
       "      <td>1.1727</td>\n",
       "      <td>142.4450</td>\n",
       "      <td>-0.3</td>\n",
       "    </tr>\n",
       "    <tr>\n",
       "      <th>395</th>\n",
       "      <td>2022-12-01</td>\n",
       "      <td>4.10</td>\n",
       "      <td>82.5</td>\n",
       "      <td>NaN</td>\n",
       "      <td>62.3</td>\n",
       "      <td>NaN</td>\n",
       "      <td>7147.7</td>\n",
       "      <td>21358.3</td>\n",
       "      <td>NaN</td>\n",
       "      <td>77.0846</td>\n",
       "      <td>...</td>\n",
       "      <td>6.554623</td>\n",
       "      <td>2103.4</td>\n",
       "      <td>NaN</td>\n",
       "      <td>98.3130</td>\n",
       "      <td>5698</td>\n",
       "      <td>6.538167</td>\n",
       "      <td>0.937559</td>\n",
       "      <td>1.2180</td>\n",
       "      <td>134.9148</td>\n",
       "      <td>-0.3</td>\n",
       "    </tr>\n",
       "  </tbody>\n",
       "</table>\n",
       "<p>396 rows × 21 columns</p>\n",
       "</div>"
      ],
      "text/plain": [
       "          DATE  FEDFUNDS  LNS11300060        GDP  CIVPART    M1V  M2REAL  \\\n",
       "0   1990-01-01      8.23         83.8   5872.701     66.8  7.356  2483.8   \n",
       "1   1990-02-01      8.24         83.8        NaN     66.7    NaN  2483.8   \n",
       "2   1990-03-01      8.28         83.6        NaN     66.7    NaN  2480.6   \n",
       "3   1990-04-01      8.26         83.5   5960.028     66.6  7.391  2483.8   \n",
       "4   1990-05-01      8.18         83.5        NaN     66.6    NaN  2479.2   \n",
       "..         ...       ...          ...        ...      ...    ...     ...   \n",
       "391 2022-08-01      2.33         82.8        NaN     62.4    NaN  7337.0   \n",
       "392 2022-09-01      2.56         82.6        NaN     62.3    NaN  7263.6   \n",
       "393 2022-10-01      3.08         82.5  26408.405     62.3  1.323  7195.7   \n",
       "394 2022-11-01      3.78         82.4        NaN     62.1    NaN  7165.4   \n",
       "395 2022-12-01      4.10         82.5        NaN     62.3    NaN  7147.7   \n",
       "\n",
       "        M2SL    M2V   MCUMFN  ...  MEDCPIM158SFRBCLE   PCEDG  DPCCRV1A225NBEA  \\\n",
       "0     3166.8  1.848  81.3184  ...           5.216140   536.4              4.1   \n",
       "1     3179.2    NaN  82.2381  ...           4.981650   505.9              NaN   \n",
       "2     3190.1    NaN  82.4549  ...           5.250468   503.8              NaN   \n",
       "3     3201.6  1.859  81.9226  ...           5.314374   505.7              NaN   \n",
       "4     3200.6    NaN  81.9744  ...           3.966494   495.3              NaN   \n",
       "..       ...    ...      ...  ...                ...     ...              ...   \n",
       "391  21659.6    NaN  79.4958  ...           8.048036  2146.3              NaN   \n",
       "392  21525.1    NaN  79.5684  ...           7.729216  2156.4              NaN   \n",
       "393  21433.2  1.234  79.5555  ...           6.693666  2172.1              NaN   \n",
       "394  21399.3    NaN  78.8698  ...           5.916617  2111.5              NaN   \n",
       "395  21358.3    NaN  77.0846  ...           6.554623  2103.4              NaN   \n",
       "\n",
       "        IPMAN  UNEMPLOY  CORESTICKM159SFRBATL  CCEUSP01USM651N  EXUSUK  \\\n",
       "0     57.9700      6752              4.905908              NaN  1.6512   \n",
       "1     58.7845      6651              4.917559              NaN  1.6961   \n",
       "2     59.0954      6598              5.191525              NaN  1.6245   \n",
       "3     58.8633      6797              5.276985              NaN  1.6372   \n",
       "4     59.0444      6742              5.166732              NaN  1.6774   \n",
       "..        ...       ...                   ...              ...     ...   \n",
       "391  100.9427      5983              5.951312         1.000000  1.1983   \n",
       "392  101.1402      5755              6.348017         1.025851  1.1320   \n",
       "393  101.2339      5950              6.312946         1.008675  1.1332   \n",
       "394  100.4743      5956              6.422543         0.963763  1.1727   \n",
       "395   98.3130      5698              6.538167         0.937559  1.2180   \n",
       "\n",
       "       EXJPUS  Inflation Change  \n",
       "0    144.9819               0.0  \n",
       "1    145.6932               0.2  \n",
       "2    153.3082               0.3  \n",
       "3    158.4586              -0.1  \n",
       "4    154.0441               0.0  \n",
       "..        ...               ...  \n",
       "391  135.2835               0.4  \n",
       "392  143.2843               0.3  \n",
       "393  147.0515              -0.3  \n",
       "394  142.4450              -0.3  \n",
       "395  134.9148              -0.3  \n",
       "\n",
       "[396 rows x 21 columns]"
      ]
     },
     "execution_count": 279,
     "metadata": {},
     "output_type": "execute_result"
    }
   ],
   "source": [
    "#making a dataframe from imported csvs \n",
    "\n",
    "from functools import reduce\n",
    "data_frames = [FF_df, Labor_ofage_df, GDP_df, Labor_Part_df, M1_Velo, M2_Real, M2_all, M2_Velo,\n",
    "               MFG_Cap, DG_Orders, Median_CPI, PCE_DG, PCEsansFE, Prod_Mfg, Raw_UE, Stick_CPIsansFE, EUR, GBP, JPY, Inf]\n",
    "df_merged = reduce(lambda  left,right: pd.merge(left,right,on=['DATE'],\n",
    "                how='left'), data_frames)\n",
    "\n",
    "#df_merged = df_merged.merge(UE_Rate ,on='DATE')\n",
    "\n",
    "df_merged['DATE']=pd.to_datetime(df_merged['DATE'])\n",
    "\n",
    "df_merged = df_merged[df_merged['DATE'] > '1989-12-31']\n",
    "df_merged = df_merged[df_merged['DATE'] < '2022-12-31']\n",
    "\n",
    "\n",
    "df_merged"
   ]
  },
  {
   "cell_type": "code",
   "execution_count": 10,
   "metadata": {},
   "outputs": [
    {
     "data": {
      "text/html": [
       "<div>\n",
       "<style scoped>\n",
       "    .dataframe tbody tr th:only-of-type {\n",
       "        vertical-align: middle;\n",
       "    }\n",
       "\n",
       "    .dataframe tbody tr th {\n",
       "        vertical-align: top;\n",
       "    }\n",
       "\n",
       "    .dataframe thead th {\n",
       "        text-align: right;\n",
       "    }\n",
       "</style>\n",
       "<table border=\"1\" class=\"dataframe\">\n",
       "  <thead>\n",
       "    <tr style=\"text-align: right;\">\n",
       "      <th></th>\n",
       "      <th>DATE</th>\n",
       "      <th>FEDFUNDS</th>\n",
       "      <th>LNS11300060</th>\n",
       "      <th>GDP</th>\n",
       "      <th>CIVPART</th>\n",
       "      <th>M1V</th>\n",
       "      <th>M2REAL</th>\n",
       "      <th>M2SL</th>\n",
       "      <th>M2V</th>\n",
       "      <th>MCUMFN</th>\n",
       "      <th>...</th>\n",
       "      <th>MEDCPIM158SFRBCLE</th>\n",
       "      <th>PCEDG</th>\n",
       "      <th>DPCCRV1A225NBEA</th>\n",
       "      <th>IPMAN</th>\n",
       "      <th>UNEMPLOY</th>\n",
       "      <th>CORESTICKM159SFRBATL</th>\n",
       "      <th>CCEUSP01USM651N</th>\n",
       "      <th>EXUSUK</th>\n",
       "      <th>EXJPUS</th>\n",
       "      <th>Inflation Change</th>\n",
       "    </tr>\n",
       "  </thead>\n",
       "  <tbody>\n",
       "    <tr>\n",
       "      <th>0</th>\n",
       "      <td>1990-01-01</td>\n",
       "      <td>8.23</td>\n",
       "      <td>83.8</td>\n",
       "      <td>5872.701</td>\n",
       "      <td>66.8</td>\n",
       "      <td>7.356</td>\n",
       "      <td>2483.8</td>\n",
       "      <td>3166.8</td>\n",
       "      <td>1.848</td>\n",
       "      <td>81.3184</td>\n",
       "      <td>...</td>\n",
       "      <td>5.216140</td>\n",
       "      <td>536.4</td>\n",
       "      <td>4.1</td>\n",
       "      <td>57.9700</td>\n",
       "      <td>6752</td>\n",
       "      <td>4.905908</td>\n",
       "      <td>0.878426</td>\n",
       "      <td>1.6512</td>\n",
       "      <td>144.9819</td>\n",
       "      <td>0.0</td>\n",
       "    </tr>\n",
       "    <tr>\n",
       "      <th>1</th>\n",
       "      <td>1990-02-01</td>\n",
       "      <td>8.24</td>\n",
       "      <td>83.8</td>\n",
       "      <td>5872.701</td>\n",
       "      <td>66.7</td>\n",
       "      <td>7.356</td>\n",
       "      <td>2483.8</td>\n",
       "      <td>3179.2</td>\n",
       "      <td>1.848</td>\n",
       "      <td>82.2381</td>\n",
       "      <td>...</td>\n",
       "      <td>4.981650</td>\n",
       "      <td>505.9</td>\n",
       "      <td>4.1</td>\n",
       "      <td>58.7845</td>\n",
       "      <td>6651</td>\n",
       "      <td>4.917559</td>\n",
       "      <td>0.878426</td>\n",
       "      <td>1.6961</td>\n",
       "      <td>145.6932</td>\n",
       "      <td>0.2</td>\n",
       "    </tr>\n",
       "    <tr>\n",
       "      <th>2</th>\n",
       "      <td>1990-03-01</td>\n",
       "      <td>8.28</td>\n",
       "      <td>83.6</td>\n",
       "      <td>5872.701</td>\n",
       "      <td>66.7</td>\n",
       "      <td>7.356</td>\n",
       "      <td>2480.6</td>\n",
       "      <td>3190.1</td>\n",
       "      <td>1.848</td>\n",
       "      <td>82.4549</td>\n",
       "      <td>...</td>\n",
       "      <td>5.250468</td>\n",
       "      <td>503.8</td>\n",
       "      <td>4.1</td>\n",
       "      <td>59.0954</td>\n",
       "      <td>6598</td>\n",
       "      <td>5.191525</td>\n",
       "      <td>0.878426</td>\n",
       "      <td>1.6245</td>\n",
       "      <td>153.3082</td>\n",
       "      <td>0.3</td>\n",
       "    </tr>\n",
       "    <tr>\n",
       "      <th>3</th>\n",
       "      <td>1990-04-01</td>\n",
       "      <td>8.26</td>\n",
       "      <td>83.5</td>\n",
       "      <td>5960.028</td>\n",
       "      <td>66.6</td>\n",
       "      <td>7.391</td>\n",
       "      <td>2483.8</td>\n",
       "      <td>3201.6</td>\n",
       "      <td>1.859</td>\n",
       "      <td>81.9226</td>\n",
       "      <td>...</td>\n",
       "      <td>5.314374</td>\n",
       "      <td>505.7</td>\n",
       "      <td>4.1</td>\n",
       "      <td>58.8633</td>\n",
       "      <td>6797</td>\n",
       "      <td>5.276985</td>\n",
       "      <td>0.878426</td>\n",
       "      <td>1.6372</td>\n",
       "      <td>158.4586</td>\n",
       "      <td>-0.1</td>\n",
       "    </tr>\n",
       "    <tr>\n",
       "      <th>4</th>\n",
       "      <td>1990-05-01</td>\n",
       "      <td>8.18</td>\n",
       "      <td>83.5</td>\n",
       "      <td>5960.028</td>\n",
       "      <td>66.6</td>\n",
       "      <td>7.391</td>\n",
       "      <td>2479.2</td>\n",
       "      <td>3200.6</td>\n",
       "      <td>1.859</td>\n",
       "      <td>81.9744</td>\n",
       "      <td>...</td>\n",
       "      <td>3.966494</td>\n",
       "      <td>495.3</td>\n",
       "      <td>4.1</td>\n",
       "      <td>59.0444</td>\n",
       "      <td>6742</td>\n",
       "      <td>5.166732</td>\n",
       "      <td>0.878426</td>\n",
       "      <td>1.6774</td>\n",
       "      <td>154.0441</td>\n",
       "      <td>0.0</td>\n",
       "    </tr>\n",
       "    <tr>\n",
       "      <th>...</th>\n",
       "      <td>...</td>\n",
       "      <td>...</td>\n",
       "      <td>...</td>\n",
       "      <td>...</td>\n",
       "      <td>...</td>\n",
       "      <td>...</td>\n",
       "      <td>...</td>\n",
       "      <td>...</td>\n",
       "      <td>...</td>\n",
       "      <td>...</td>\n",
       "      <td>...</td>\n",
       "      <td>...</td>\n",
       "      <td>...</td>\n",
       "      <td>...</td>\n",
       "      <td>...</td>\n",
       "      <td>...</td>\n",
       "      <td>...</td>\n",
       "      <td>...</td>\n",
       "      <td>...</td>\n",
       "      <td>...</td>\n",
       "      <td>...</td>\n",
       "    </tr>\n",
       "    <tr>\n",
       "      <th>391</th>\n",
       "      <td>2022-08-01</td>\n",
       "      <td>2.33</td>\n",
       "      <td>82.8</td>\n",
       "      <td>25994.639</td>\n",
       "      <td>62.4</td>\n",
       "      <td>1.271</td>\n",
       "      <td>7337.0</td>\n",
       "      <td>21659.6</td>\n",
       "      <td>1.202</td>\n",
       "      <td>79.4958</td>\n",
       "      <td>...</td>\n",
       "      <td>8.048036</td>\n",
       "      <td>2146.3</td>\n",
       "      <td>5.2</td>\n",
       "      <td>100.9427</td>\n",
       "      <td>5983</td>\n",
       "      <td>5.951312</td>\n",
       "      <td>1.000000</td>\n",
       "      <td>1.1983</td>\n",
       "      <td>135.2835</td>\n",
       "      <td>0.4</td>\n",
       "    </tr>\n",
       "    <tr>\n",
       "      <th>392</th>\n",
       "      <td>2022-09-01</td>\n",
       "      <td>2.56</td>\n",
       "      <td>82.6</td>\n",
       "      <td>25994.639</td>\n",
       "      <td>62.3</td>\n",
       "      <td>1.271</td>\n",
       "      <td>7263.6</td>\n",
       "      <td>21525.1</td>\n",
       "      <td>1.202</td>\n",
       "      <td>79.5684</td>\n",
       "      <td>...</td>\n",
       "      <td>7.729216</td>\n",
       "      <td>2156.4</td>\n",
       "      <td>5.2</td>\n",
       "      <td>101.1402</td>\n",
       "      <td>5755</td>\n",
       "      <td>6.348017</td>\n",
       "      <td>1.025851</td>\n",
       "      <td>1.1320</td>\n",
       "      <td>143.2843</td>\n",
       "      <td>0.3</td>\n",
       "    </tr>\n",
       "    <tr>\n",
       "      <th>393</th>\n",
       "      <td>2022-10-01</td>\n",
       "      <td>3.08</td>\n",
       "      <td>82.5</td>\n",
       "      <td>26408.405</td>\n",
       "      <td>62.3</td>\n",
       "      <td>1.323</td>\n",
       "      <td>7195.7</td>\n",
       "      <td>21433.2</td>\n",
       "      <td>1.234</td>\n",
       "      <td>79.5555</td>\n",
       "      <td>...</td>\n",
       "      <td>6.693666</td>\n",
       "      <td>2172.1</td>\n",
       "      <td>5.2</td>\n",
       "      <td>101.2339</td>\n",
       "      <td>5950</td>\n",
       "      <td>6.312946</td>\n",
       "      <td>1.008675</td>\n",
       "      <td>1.1332</td>\n",
       "      <td>147.0515</td>\n",
       "      <td>-0.3</td>\n",
       "    </tr>\n",
       "    <tr>\n",
       "      <th>394</th>\n",
       "      <td>2022-11-01</td>\n",
       "      <td>3.78</td>\n",
       "      <td>82.4</td>\n",
       "      <td>26408.405</td>\n",
       "      <td>62.1</td>\n",
       "      <td>1.323</td>\n",
       "      <td>7165.4</td>\n",
       "      <td>21399.3</td>\n",
       "      <td>1.234</td>\n",
       "      <td>78.8698</td>\n",
       "      <td>...</td>\n",
       "      <td>5.916617</td>\n",
       "      <td>2111.5</td>\n",
       "      <td>5.2</td>\n",
       "      <td>100.4743</td>\n",
       "      <td>5956</td>\n",
       "      <td>6.422543</td>\n",
       "      <td>0.963763</td>\n",
       "      <td>1.1727</td>\n",
       "      <td>142.4450</td>\n",
       "      <td>-0.3</td>\n",
       "    </tr>\n",
       "    <tr>\n",
       "      <th>395</th>\n",
       "      <td>2022-12-01</td>\n",
       "      <td>4.10</td>\n",
       "      <td>82.5</td>\n",
       "      <td>26408.405</td>\n",
       "      <td>62.3</td>\n",
       "      <td>1.323</td>\n",
       "      <td>7147.7</td>\n",
       "      <td>21358.3</td>\n",
       "      <td>1.234</td>\n",
       "      <td>77.0846</td>\n",
       "      <td>...</td>\n",
       "      <td>6.554623</td>\n",
       "      <td>2103.4</td>\n",
       "      <td>5.2</td>\n",
       "      <td>98.3130</td>\n",
       "      <td>5698</td>\n",
       "      <td>6.538167</td>\n",
       "      <td>0.937559</td>\n",
       "      <td>1.2180</td>\n",
       "      <td>134.9148</td>\n",
       "      <td>-0.3</td>\n",
       "    </tr>\n",
       "  </tbody>\n",
       "</table>\n",
       "<p>396 rows × 21 columns</p>\n",
       "</div>"
      ],
      "text/plain": [
       "          DATE  FEDFUNDS  LNS11300060        GDP  CIVPART    M1V  M2REAL  \\\n",
       "0   1990-01-01      8.23         83.8   5872.701     66.8  7.356  2483.8   \n",
       "1   1990-02-01      8.24         83.8   5872.701     66.7  7.356  2483.8   \n",
       "2   1990-03-01      8.28         83.6   5872.701     66.7  7.356  2480.6   \n",
       "3   1990-04-01      8.26         83.5   5960.028     66.6  7.391  2483.8   \n",
       "4   1990-05-01      8.18         83.5   5960.028     66.6  7.391  2479.2   \n",
       "..         ...       ...          ...        ...      ...    ...     ...   \n",
       "391 2022-08-01      2.33         82.8  25994.639     62.4  1.271  7337.0   \n",
       "392 2022-09-01      2.56         82.6  25994.639     62.3  1.271  7263.6   \n",
       "393 2022-10-01      3.08         82.5  26408.405     62.3  1.323  7195.7   \n",
       "394 2022-11-01      3.78         82.4  26408.405     62.1  1.323  7165.4   \n",
       "395 2022-12-01      4.10         82.5  26408.405     62.3  1.323  7147.7   \n",
       "\n",
       "        M2SL    M2V   MCUMFN  ...  MEDCPIM158SFRBCLE   PCEDG  DPCCRV1A225NBEA  \\\n",
       "0     3166.8  1.848  81.3184  ...           5.216140   536.4              4.1   \n",
       "1     3179.2  1.848  82.2381  ...           4.981650   505.9              4.1   \n",
       "2     3190.1  1.848  82.4549  ...           5.250468   503.8              4.1   \n",
       "3     3201.6  1.859  81.9226  ...           5.314374   505.7              4.1   \n",
       "4     3200.6  1.859  81.9744  ...           3.966494   495.3              4.1   \n",
       "..       ...    ...      ...  ...                ...     ...              ...   \n",
       "391  21659.6  1.202  79.4958  ...           8.048036  2146.3              5.2   \n",
       "392  21525.1  1.202  79.5684  ...           7.729216  2156.4              5.2   \n",
       "393  21433.2  1.234  79.5555  ...           6.693666  2172.1              5.2   \n",
       "394  21399.3  1.234  78.8698  ...           5.916617  2111.5              5.2   \n",
       "395  21358.3  1.234  77.0846  ...           6.554623  2103.4              5.2   \n",
       "\n",
       "        IPMAN  UNEMPLOY  CORESTICKM159SFRBATL  CCEUSP01USM651N  EXUSUK  \\\n",
       "0     57.9700      6752              4.905908         0.878426  1.6512   \n",
       "1     58.7845      6651              4.917559         0.878426  1.6961   \n",
       "2     59.0954      6598              5.191525         0.878426  1.6245   \n",
       "3     58.8633      6797              5.276985         0.878426  1.6372   \n",
       "4     59.0444      6742              5.166732         0.878426  1.6774   \n",
       "..        ...       ...                   ...              ...     ...   \n",
       "391  100.9427      5983              5.951312         1.000000  1.1983   \n",
       "392  101.1402      5755              6.348017         1.025851  1.1320   \n",
       "393  101.2339      5950              6.312946         1.008675  1.1332   \n",
       "394  100.4743      5956              6.422543         0.963763  1.1727   \n",
       "395   98.3130      5698              6.538167         0.937559  1.2180   \n",
       "\n",
       "       EXJPUS  Inflation Change  \n",
       "0    144.9819               0.0  \n",
       "1    145.6932               0.2  \n",
       "2    153.3082               0.3  \n",
       "3    158.4586              -0.1  \n",
       "4    154.0441               0.0  \n",
       "..        ...               ...  \n",
       "391  135.2835               0.4  \n",
       "392  143.2843               0.3  \n",
       "393  147.0515              -0.3  \n",
       "394  142.4450              -0.3  \n",
       "395  134.9148              -0.3  \n",
       "\n",
       "[396 rows x 21 columns]"
      ]
     },
     "execution_count": 10,
     "metadata": {},
     "output_type": "execute_result"
    }
   ],
   "source": [
    "#back filling and front filling for data that is collected quarterly\n",
    "\n",
    "df_merged = df_merged.fillna(method='ffill')\n",
    "df_merged = df_merged.fillna(method='bfill')\n",
    "df_merged"
   ]
  },
  {
   "cell_type": "code",
   "execution_count": 11,
   "metadata": {},
   "outputs": [
    {
     "data": {
      "text/plain": [
       "396"
      ]
     },
     "execution_count": 11,
     "metadata": {},
     "output_type": "execute_result"
    }
   ],
   "source": [
    "len(df_merged)"
   ]
  },
  {
   "cell_type": "code",
   "execution_count": 12,
   "metadata": {},
   "outputs": [
    {
     "name": "stdout",
     "output_type": "stream",
     "text": [
      "<class 'pandas.core.frame.DataFrame'>\n",
      "Index: 396 entries, 0 to 395\n",
      "Data columns (total 21 columns):\n",
      " #   Column                Non-Null Count  Dtype         \n",
      "---  ------                --------------  -----         \n",
      " 0   DATE                  396 non-null    datetime64[ns]\n",
      " 1   FEDFUNDS              396 non-null    float64       \n",
      " 2   LNS11300060           396 non-null    float64       \n",
      " 3   GDP                   396 non-null    float64       \n",
      " 4   CIVPART               396 non-null    float64       \n",
      " 5   M1V                   396 non-null    float64       \n",
      " 6   M2REAL                396 non-null    float64       \n",
      " 7   M2SL                  396 non-null    float64       \n",
      " 8   M2V                   396 non-null    float64       \n",
      " 9   MCUMFN                396 non-null    float64       \n",
      " 10  DGORDER               396 non-null    float64       \n",
      " 11  MEDCPIM158SFRBCLE     396 non-null    float64       \n",
      " 12  PCEDG                 396 non-null    float64       \n",
      " 13  DPCCRV1A225NBEA       396 non-null    float64       \n",
      " 14  IPMAN                 396 non-null    float64       \n",
      " 15  UNEMPLOY              396 non-null    int64         \n",
      " 16  CORESTICKM159SFRBATL  396 non-null    float64       \n",
      " 17  CCEUSP01USM651N       396 non-null    float64       \n",
      " 18  EXUSUK                396 non-null    float64       \n",
      " 19  EXJPUS                396 non-null    float64       \n",
      " 20  Inflation Change      396 non-null    float64       \n",
      "dtypes: datetime64[ns](1), float64(19), int64(1)\n",
      "memory usage: 68.1 KB\n"
     ]
    }
   ],
   "source": [
    "df_merged.info()"
   ]
  },
  {
   "cell_type": "code",
   "execution_count": 13,
   "metadata": {
    "scrolled": true
   },
   "outputs": [],
   "source": [
    "#trying different rate buckets"
   ]
  },
  {
   "cell_type": "code",
   "execution_count": 14,
   "metadata": {},
   "outputs": [],
   "source": [
    "def Rate_Increase_1(Rate):\n",
    "    if Rate > .0:\n",
    "        return 1\n",
    "    elif Rate == 0:\n",
    "        return 0\n",
    "    elif Rate < 0:\n",
    "        return -1"
   ]
  },
  {
   "cell_type": "code",
   "execution_count": 15,
   "metadata": {},
   "outputs": [],
   "source": [
    "def Rate_Increase_2(Rate):\n",
    "   if Rate > .25:\n",
    "       return 2\n",
    "   elif Rate > .0 and Rate <= .25:\n",
    "       return 1\n",
    "   elif Rate == 0:\n",
    "       return 0\n",
    "   elif Rate >= -.25 and Rate < 0:\n",
    "       return -1\n",
    "   else:\n",
    "        return -2"
   ]
  },
  {
   "cell_type": "code",
   "execution_count": 164,
   "metadata": {},
   "outputs": [],
   "source": [
    "def Rate_Increase_3(Rate):\n",
    "   if Rate >= .1:\n",
    "       return 1\n",
    "   elif Rate > 0 and Rate < .1:\n",
    "       return 0\n",
    "   elif Rate == 0:\n",
    "       return 0\n",
    "   elif Rate > -.1 and Rate < 0:\n",
    "       return 0\n",
    "   else:\n",
    "        return -1"
   ]
  },
  {
   "cell_type": "code",
   "execution_count": 165,
   "metadata": {},
   "outputs": [],
   "source": [
    "#getting the rate change from previous month\n",
    "\n",
    "df_merged['Difference'] = df_merged['FEDFUNDS']-df_merged['FEDFUNDS'].shift()"
   ]
  },
  {
   "cell_type": "code",
   "execution_count": 166,
   "metadata": {},
   "outputs": [],
   "source": [
    "df_merged['Outcome'] = df_merged['Difference'].apply(Rate_Increase_3)"
   ]
  },
  {
   "cell_type": "code",
   "execution_count": 167,
   "metadata": {},
   "outputs": [
    {
     "name": "stdout",
     "output_type": "stream",
     "text": [
      "<class 'pandas.core.frame.DataFrame'>\n",
      "Index: 396 entries, 0 to 395\n",
      "Data columns (total 23 columns):\n",
      " #   Column                Non-Null Count  Dtype         \n",
      "---  ------                --------------  -----         \n",
      " 0   DATE                  396 non-null    datetime64[ns]\n",
      " 1   FEDFUNDS              396 non-null    object        \n",
      " 2   LNS11300060           396 non-null    float64       \n",
      " 3   GDP                   396 non-null    float64       \n",
      " 4   CIVPART               396 non-null    float64       \n",
      " 5   M1V                   396 non-null    float64       \n",
      " 6   M2REAL                396 non-null    float64       \n",
      " 7   M2SL                  396 non-null    float64       \n",
      " 8   M2V                   396 non-null    float64       \n",
      " 9   MCUMFN                396 non-null    float64       \n",
      " 10  DGORDER               396 non-null    float64       \n",
      " 11  MEDCPIM158SFRBCLE     396 non-null    float64       \n",
      " 12  PCEDG                 396 non-null    float64       \n",
      " 13  DPCCRV1A225NBEA       396 non-null    float64       \n",
      " 14  IPMAN                 396 non-null    float64       \n",
      " 15  UNEMPLOY              396 non-null    int64         \n",
      " 16  CORESTICKM159SFRBATL  396 non-null    float64       \n",
      " 17  CCEUSP01USM651N       396 non-null    object        \n",
      " 18  EXUSUK                396 non-null    float64       \n",
      " 19  EXJPUS                396 non-null    float64       \n",
      " 20  Inflation Change      396 non-null    object        \n",
      " 21  Difference            396 non-null    object        \n",
      " 22  Outcome               396 non-null    object        \n",
      "dtypes: datetime64[ns](1), float64(16), int64(1), object(5)\n",
      "memory usage: 74.2+ KB\n"
     ]
    }
   ],
   "source": [
    "df_test.info()"
   ]
  },
  {
   "cell_type": "code",
   "execution_count": 168,
   "metadata": {},
   "outputs": [],
   "source": [
    "#mapping numerical to Vergbiage\n",
    "\n",
    "mymap = {-1:'Decrease', 0: 'No Change', 1:' Increase'}\n",
    "df_test=df_merged.applymap(lambda s: mymap.get(s) if s in mymap else s)\n"
   ]
  },
  {
   "cell_type": "code",
   "execution_count": 266,
   "metadata": {},
   "outputs": [
    {
     "data": {
      "text/plain": [
       "Outcome\n",
       "No Change    262\n",
       " Increase     71\n",
       "Decrease      63\n",
       "Name: count, dtype: int64"
      ]
     },
     "execution_count": 266,
     "metadata": {},
     "output_type": "execute_result"
    }
   ],
   "source": [
    "df_test['Outcome'].value_counts()"
   ]
  },
  {
   "cell_type": "code",
   "execution_count": 281,
   "metadata": {
    "scrolled": true
   },
   "outputs": [],
   "source": [
    "\n",
    "#fig, ax = plt.subplots(figsize = (12,7))\n",
    "#sns.barplot(x = df_test['Outcome'].sort_values().unique(), y =  df_test['Outcome'].value_counts()).set(title='Distribution of Outcomes')\n"
   ]
  },
  {
   "cell_type": "code",
   "execution_count": 170,
   "metadata": {},
   "outputs": [
    {
     "data": {
      "text/html": [
       "<div>\n",
       "<style scoped>\n",
       "    .dataframe tbody tr th:only-of-type {\n",
       "        vertical-align: middle;\n",
       "    }\n",
       "\n",
       "    .dataframe tbody tr th {\n",
       "        vertical-align: top;\n",
       "    }\n",
       "\n",
       "    .dataframe thead th {\n",
       "        text-align: right;\n",
       "    }\n",
       "</style>\n",
       "<table border=\"1\" class=\"dataframe\">\n",
       "  <thead>\n",
       "    <tr style=\"text-align: right;\">\n",
       "      <th></th>\n",
       "      <th>DATE</th>\n",
       "      <th>FEDFUNDS</th>\n",
       "      <th>LNS11300060</th>\n",
       "      <th>GDP</th>\n",
       "      <th>CIVPART</th>\n",
       "      <th>M1V</th>\n",
       "      <th>M2REAL</th>\n",
       "      <th>M2SL</th>\n",
       "      <th>M2V</th>\n",
       "      <th>MCUMFN</th>\n",
       "      <th>...</th>\n",
       "      <th>DPCCRV1A225NBEA</th>\n",
       "      <th>IPMAN</th>\n",
       "      <th>UNEMPLOY</th>\n",
       "      <th>CORESTICKM159SFRBATL</th>\n",
       "      <th>CCEUSP01USM651N</th>\n",
       "      <th>EXUSUK</th>\n",
       "      <th>EXJPUS</th>\n",
       "      <th>Inflation Change</th>\n",
       "      <th>Difference</th>\n",
       "      <th>Outcome</th>\n",
       "    </tr>\n",
       "  </thead>\n",
       "  <tbody>\n",
       "    <tr>\n",
       "      <th>0</th>\n",
       "      <td>1990-01-01</td>\n",
       "      <td>8.23</td>\n",
       "      <td>83.8</td>\n",
       "      <td>5872.701</td>\n",
       "      <td>66.8</td>\n",
       "      <td>7.356</td>\n",
       "      <td>2483.8</td>\n",
       "      <td>3166.8</td>\n",
       "      <td>1.848</td>\n",
       "      <td>81.3184</td>\n",
       "      <td>...</td>\n",
       "      <td>4.1</td>\n",
       "      <td>57.9700</td>\n",
       "      <td>6752</td>\n",
       "      <td>4.905908</td>\n",
       "      <td>0.878426</td>\n",
       "      <td>1.6512</td>\n",
       "      <td>144.9819</td>\n",
       "      <td>0.0</td>\n",
       "      <td>NaN</td>\n",
       "      <td>-1</td>\n",
       "    </tr>\n",
       "    <tr>\n",
       "      <th>1</th>\n",
       "      <td>1990-02-01</td>\n",
       "      <td>8.24</td>\n",
       "      <td>83.8</td>\n",
       "      <td>5872.701</td>\n",
       "      <td>66.7</td>\n",
       "      <td>7.356</td>\n",
       "      <td>2483.8</td>\n",
       "      <td>3179.2</td>\n",
       "      <td>1.848</td>\n",
       "      <td>82.2381</td>\n",
       "      <td>...</td>\n",
       "      <td>4.1</td>\n",
       "      <td>58.7845</td>\n",
       "      <td>6651</td>\n",
       "      <td>4.917559</td>\n",
       "      <td>0.878426</td>\n",
       "      <td>1.6961</td>\n",
       "      <td>145.6932</td>\n",
       "      <td>0.2</td>\n",
       "      <td>0.01</td>\n",
       "      <td>0</td>\n",
       "    </tr>\n",
       "    <tr>\n",
       "      <th>2</th>\n",
       "      <td>1990-03-01</td>\n",
       "      <td>8.28</td>\n",
       "      <td>83.6</td>\n",
       "      <td>5872.701</td>\n",
       "      <td>66.7</td>\n",
       "      <td>7.356</td>\n",
       "      <td>2480.6</td>\n",
       "      <td>3190.1</td>\n",
       "      <td>1.848</td>\n",
       "      <td>82.4549</td>\n",
       "      <td>...</td>\n",
       "      <td>4.1</td>\n",
       "      <td>59.0954</td>\n",
       "      <td>6598</td>\n",
       "      <td>5.191525</td>\n",
       "      <td>0.878426</td>\n",
       "      <td>1.6245</td>\n",
       "      <td>153.3082</td>\n",
       "      <td>0.3</td>\n",
       "      <td>0.04</td>\n",
       "      <td>0</td>\n",
       "    </tr>\n",
       "    <tr>\n",
       "      <th>3</th>\n",
       "      <td>1990-04-01</td>\n",
       "      <td>8.26</td>\n",
       "      <td>83.5</td>\n",
       "      <td>5960.028</td>\n",
       "      <td>66.6</td>\n",
       "      <td>7.391</td>\n",
       "      <td>2483.8</td>\n",
       "      <td>3201.6</td>\n",
       "      <td>1.859</td>\n",
       "      <td>81.9226</td>\n",
       "      <td>...</td>\n",
       "      <td>4.1</td>\n",
       "      <td>58.8633</td>\n",
       "      <td>6797</td>\n",
       "      <td>5.276985</td>\n",
       "      <td>0.878426</td>\n",
       "      <td>1.6372</td>\n",
       "      <td>158.4586</td>\n",
       "      <td>-0.1</td>\n",
       "      <td>-0.02</td>\n",
       "      <td>0</td>\n",
       "    </tr>\n",
       "    <tr>\n",
       "      <th>4</th>\n",
       "      <td>1990-05-01</td>\n",
       "      <td>8.18</td>\n",
       "      <td>83.5</td>\n",
       "      <td>5960.028</td>\n",
       "      <td>66.6</td>\n",
       "      <td>7.391</td>\n",
       "      <td>2479.2</td>\n",
       "      <td>3200.6</td>\n",
       "      <td>1.859</td>\n",
       "      <td>81.9744</td>\n",
       "      <td>...</td>\n",
       "      <td>4.1</td>\n",
       "      <td>59.0444</td>\n",
       "      <td>6742</td>\n",
       "      <td>5.166732</td>\n",
       "      <td>0.878426</td>\n",
       "      <td>1.6774</td>\n",
       "      <td>154.0441</td>\n",
       "      <td>0.0</td>\n",
       "      <td>-0.08</td>\n",
       "      <td>0</td>\n",
       "    </tr>\n",
       "    <tr>\n",
       "      <th>...</th>\n",
       "      <td>...</td>\n",
       "      <td>...</td>\n",
       "      <td>...</td>\n",
       "      <td>...</td>\n",
       "      <td>...</td>\n",
       "      <td>...</td>\n",
       "      <td>...</td>\n",
       "      <td>...</td>\n",
       "      <td>...</td>\n",
       "      <td>...</td>\n",
       "      <td>...</td>\n",
       "      <td>...</td>\n",
       "      <td>...</td>\n",
       "      <td>...</td>\n",
       "      <td>...</td>\n",
       "      <td>...</td>\n",
       "      <td>...</td>\n",
       "      <td>...</td>\n",
       "      <td>...</td>\n",
       "      <td>...</td>\n",
       "      <td>...</td>\n",
       "    </tr>\n",
       "    <tr>\n",
       "      <th>391</th>\n",
       "      <td>2022-08-01</td>\n",
       "      <td>2.33</td>\n",
       "      <td>82.8</td>\n",
       "      <td>25994.639</td>\n",
       "      <td>62.4</td>\n",
       "      <td>1.271</td>\n",
       "      <td>7337.0</td>\n",
       "      <td>21659.6</td>\n",
       "      <td>1.202</td>\n",
       "      <td>79.4958</td>\n",
       "      <td>...</td>\n",
       "      <td>5.2</td>\n",
       "      <td>100.9427</td>\n",
       "      <td>5983</td>\n",
       "      <td>5.951312</td>\n",
       "      <td>1.000000</td>\n",
       "      <td>1.1983</td>\n",
       "      <td>135.2835</td>\n",
       "      <td>0.4</td>\n",
       "      <td>0.65</td>\n",
       "      <td>1</td>\n",
       "    </tr>\n",
       "    <tr>\n",
       "      <th>392</th>\n",
       "      <td>2022-09-01</td>\n",
       "      <td>2.56</td>\n",
       "      <td>82.6</td>\n",
       "      <td>25994.639</td>\n",
       "      <td>62.3</td>\n",
       "      <td>1.271</td>\n",
       "      <td>7263.6</td>\n",
       "      <td>21525.1</td>\n",
       "      <td>1.202</td>\n",
       "      <td>79.5684</td>\n",
       "      <td>...</td>\n",
       "      <td>5.2</td>\n",
       "      <td>101.1402</td>\n",
       "      <td>5755</td>\n",
       "      <td>6.348017</td>\n",
       "      <td>1.025851</td>\n",
       "      <td>1.1320</td>\n",
       "      <td>143.2843</td>\n",
       "      <td>0.3</td>\n",
       "      <td>0.23</td>\n",
       "      <td>1</td>\n",
       "    </tr>\n",
       "    <tr>\n",
       "      <th>393</th>\n",
       "      <td>2022-10-01</td>\n",
       "      <td>3.08</td>\n",
       "      <td>82.5</td>\n",
       "      <td>26408.405</td>\n",
       "      <td>62.3</td>\n",
       "      <td>1.323</td>\n",
       "      <td>7195.7</td>\n",
       "      <td>21433.2</td>\n",
       "      <td>1.234</td>\n",
       "      <td>79.5555</td>\n",
       "      <td>...</td>\n",
       "      <td>5.2</td>\n",
       "      <td>101.2339</td>\n",
       "      <td>5950</td>\n",
       "      <td>6.312946</td>\n",
       "      <td>1.008675</td>\n",
       "      <td>1.1332</td>\n",
       "      <td>147.0515</td>\n",
       "      <td>-0.3</td>\n",
       "      <td>0.52</td>\n",
       "      <td>1</td>\n",
       "    </tr>\n",
       "    <tr>\n",
       "      <th>394</th>\n",
       "      <td>2022-11-01</td>\n",
       "      <td>3.78</td>\n",
       "      <td>82.4</td>\n",
       "      <td>26408.405</td>\n",
       "      <td>62.1</td>\n",
       "      <td>1.323</td>\n",
       "      <td>7165.4</td>\n",
       "      <td>21399.3</td>\n",
       "      <td>1.234</td>\n",
       "      <td>78.8698</td>\n",
       "      <td>...</td>\n",
       "      <td>5.2</td>\n",
       "      <td>100.4743</td>\n",
       "      <td>5956</td>\n",
       "      <td>6.422543</td>\n",
       "      <td>0.963763</td>\n",
       "      <td>1.1727</td>\n",
       "      <td>142.4450</td>\n",
       "      <td>-0.3</td>\n",
       "      <td>0.70</td>\n",
       "      <td>1</td>\n",
       "    </tr>\n",
       "    <tr>\n",
       "      <th>395</th>\n",
       "      <td>2022-12-01</td>\n",
       "      <td>4.10</td>\n",
       "      <td>82.5</td>\n",
       "      <td>26408.405</td>\n",
       "      <td>62.3</td>\n",
       "      <td>1.323</td>\n",
       "      <td>7147.7</td>\n",
       "      <td>21358.3</td>\n",
       "      <td>1.234</td>\n",
       "      <td>77.0846</td>\n",
       "      <td>...</td>\n",
       "      <td>5.2</td>\n",
       "      <td>98.3130</td>\n",
       "      <td>5698</td>\n",
       "      <td>6.538167</td>\n",
       "      <td>0.937559</td>\n",
       "      <td>1.2180</td>\n",
       "      <td>134.9148</td>\n",
       "      <td>-0.3</td>\n",
       "      <td>0.32</td>\n",
       "      <td>1</td>\n",
       "    </tr>\n",
       "  </tbody>\n",
       "</table>\n",
       "<p>396 rows × 23 columns</p>\n",
       "</div>"
      ],
      "text/plain": [
       "          DATE  FEDFUNDS  LNS11300060        GDP  CIVPART    M1V  M2REAL  \\\n",
       "0   1990-01-01      8.23         83.8   5872.701     66.8  7.356  2483.8   \n",
       "1   1990-02-01      8.24         83.8   5872.701     66.7  7.356  2483.8   \n",
       "2   1990-03-01      8.28         83.6   5872.701     66.7  7.356  2480.6   \n",
       "3   1990-04-01      8.26         83.5   5960.028     66.6  7.391  2483.8   \n",
       "4   1990-05-01      8.18         83.5   5960.028     66.6  7.391  2479.2   \n",
       "..         ...       ...          ...        ...      ...    ...     ...   \n",
       "391 2022-08-01      2.33         82.8  25994.639     62.4  1.271  7337.0   \n",
       "392 2022-09-01      2.56         82.6  25994.639     62.3  1.271  7263.6   \n",
       "393 2022-10-01      3.08         82.5  26408.405     62.3  1.323  7195.7   \n",
       "394 2022-11-01      3.78         82.4  26408.405     62.1  1.323  7165.4   \n",
       "395 2022-12-01      4.10         82.5  26408.405     62.3  1.323  7147.7   \n",
       "\n",
       "        M2SL    M2V   MCUMFN  ...  DPCCRV1A225NBEA     IPMAN  UNEMPLOY  \\\n",
       "0     3166.8  1.848  81.3184  ...              4.1   57.9700      6752   \n",
       "1     3179.2  1.848  82.2381  ...              4.1   58.7845      6651   \n",
       "2     3190.1  1.848  82.4549  ...              4.1   59.0954      6598   \n",
       "3     3201.6  1.859  81.9226  ...              4.1   58.8633      6797   \n",
       "4     3200.6  1.859  81.9744  ...              4.1   59.0444      6742   \n",
       "..       ...    ...      ...  ...              ...       ...       ...   \n",
       "391  21659.6  1.202  79.4958  ...              5.2  100.9427      5983   \n",
       "392  21525.1  1.202  79.5684  ...              5.2  101.1402      5755   \n",
       "393  21433.2  1.234  79.5555  ...              5.2  101.2339      5950   \n",
       "394  21399.3  1.234  78.8698  ...              5.2  100.4743      5956   \n",
       "395  21358.3  1.234  77.0846  ...              5.2   98.3130      5698   \n",
       "\n",
       "     CORESTICKM159SFRBATL  CCEUSP01USM651N  EXUSUK    EXJPUS  \\\n",
       "0                4.905908         0.878426  1.6512  144.9819   \n",
       "1                4.917559         0.878426  1.6961  145.6932   \n",
       "2                5.191525         0.878426  1.6245  153.3082   \n",
       "3                5.276985         0.878426  1.6372  158.4586   \n",
       "4                5.166732         0.878426  1.6774  154.0441   \n",
       "..                    ...              ...     ...       ...   \n",
       "391              5.951312         1.000000  1.1983  135.2835   \n",
       "392              6.348017         1.025851  1.1320  143.2843   \n",
       "393              6.312946         1.008675  1.1332  147.0515   \n",
       "394              6.422543         0.963763  1.1727  142.4450   \n",
       "395              6.538167         0.937559  1.2180  134.9148   \n",
       "\n",
       "     Inflation Change  Difference  Outcome  \n",
       "0                 0.0         NaN       -1  \n",
       "1                 0.2        0.01        0  \n",
       "2                 0.3        0.04        0  \n",
       "3                -0.1       -0.02        0  \n",
       "4                 0.0       -0.08        0  \n",
       "..                ...         ...      ...  \n",
       "391               0.4        0.65        1  \n",
       "392               0.3        0.23        1  \n",
       "393              -0.3        0.52        1  \n",
       "394              -0.3        0.70        1  \n",
       "395              -0.3        0.32        1  \n",
       "\n",
       "[396 rows x 23 columns]"
      ]
     },
     "execution_count": 170,
     "metadata": {},
     "output_type": "execute_result"
    }
   ],
   "source": [
    "df_merged"
   ]
  },
  {
   "cell_type": "code",
   "execution_count": 171,
   "metadata": {},
   "outputs": [],
   "source": [
    "conn = sqlite3.connect('df_merged')"
   ]
  },
  {
   "cell_type": "code",
   "execution_count": 172,
   "metadata": {},
   "outputs": [],
   "source": [
    "#EDA\n",
    "\n",
    "query = \"\"\"\n",
    "SELECT Outcome, COUNT(Outcome) Amount\n",
    "FROM df_merged\n",
    "GROUP BY Outcome\n",
    "ORDER BY Amount DESC\n",
    "LIMIT 100\n",
    "\"\"\"\n"
   ]
  },
  {
   "cell_type": "code",
   "execution_count": 173,
   "metadata": {},
   "outputs": [],
   "source": [
    "df_merged['Difference'] = df_merged['Difference'].fillna(0)\n",
    "df_merged['Outcome'] = df_merged['Outcome'].fillna(0)"
   ]
  },
  {
   "cell_type": "code",
   "execution_count": 175,
   "metadata": {},
   "outputs": [],
   "source": [
    "#splitting time series data\n",
    "\n",
    "tss = TimeSeriesSplit(n_splits = 4)"
   ]
  },
  {
   "cell_type": "code",
   "execution_count": 176,
   "metadata": {},
   "outputs": [],
   "source": [
    "#dropping columns to prevent data leakage\n",
    "\n",
    "X = df_merged.drop(labels=['Outcome'], axis=1)\n",
    "X = X.drop(labels=['FEDFUNDS'], axis=1)\n",
    "X = X.drop(labels=['Difference'], axis=1)\n",
    "y = df_merged['Outcome']"
   ]
  },
  {
   "cell_type": "code",
   "execution_count": 177,
   "metadata": {},
   "outputs": [],
   "source": [
    "for train_index, test_index in tss.split(X):\n",
    "    X_train, X_test = X.iloc[train_index, :], X.iloc[test_index,:]\n",
    "    y_train, y_test = y.iloc[train_index], y.iloc[test_index]"
   ]
  },
  {
   "cell_type": "code",
   "execution_count": 282,
   "metadata": {},
   "outputs": [],
   "source": [
    "Logreg = LogisticRegression()"
   ]
  },
  {
   "cell_type": "code",
   "execution_count": 283,
   "metadata": {},
   "outputs": [],
   "source": [
    "Linreg = LinearRegression()"
   ]
  },
  {
   "cell_type": "code",
   "execution_count": 181,
   "metadata": {},
   "outputs": [
    {
     "name": "stdout",
     "output_type": "stream",
     "text": [
      "<class 'pandas.core.frame.DataFrame'>\n",
      "Index: 317 entries, 0 to 316\n",
      "Data columns (total 20 columns):\n",
      " #   Column                Non-Null Count  Dtype         \n",
      "---  ------                --------------  -----         \n",
      " 0   DATE                  317 non-null    datetime64[ns]\n",
      " 1   LNS11300060           317 non-null    float64       \n",
      " 2   GDP                   317 non-null    float64       \n",
      " 3   CIVPART               317 non-null    float64       \n",
      " 4   M1V                   317 non-null    float64       \n",
      " 5   M2REAL                317 non-null    float64       \n",
      " 6   M2SL                  317 non-null    float64       \n",
      " 7   M2V                   317 non-null    float64       \n",
      " 8   MCUMFN                317 non-null    float64       \n",
      " 9   DGORDER               317 non-null    float64       \n",
      " 10  MEDCPIM158SFRBCLE     317 non-null    float64       \n",
      " 11  PCEDG                 317 non-null    float64       \n",
      " 12  DPCCRV1A225NBEA       317 non-null    float64       \n",
      " 13  IPMAN                 317 non-null    float64       \n",
      " 14  UNEMPLOY              317 non-null    int64         \n",
      " 15  CORESTICKM159SFRBATL  317 non-null    float64       \n",
      " 16  CCEUSP01USM651N       317 non-null    float64       \n",
      " 17  EXUSUK                317 non-null    float64       \n",
      " 18  EXJPUS                317 non-null    float64       \n",
      " 19  Inflation Change      317 non-null    float64       \n",
      "dtypes: datetime64[ns](1), float64(18), int64(1)\n",
      "memory usage: 52.0 KB\n"
     ]
    }
   ],
   "source": [
    "X_train.info()"
   ]
  },
  {
   "cell_type": "code",
   "execution_count": 182,
   "metadata": {},
   "outputs": [],
   "source": [
    "X_train['DATE'] = pd.to_datetime(X_train['DATE'])\n",
    "X_train['DATE']=X_train['DATE'].map(dt.datetime.toordinal)"
   ]
  },
  {
   "cell_type": "code",
   "execution_count": 183,
   "metadata": {},
   "outputs": [],
   "source": [
    "X_test['DATE'] = pd.to_datetime(X_test['DATE'])\n",
    "X_test['DATE']=X_test['DATE'].map(dt.datetime.toordinal)"
   ]
  },
  {
   "cell_type": "code",
   "execution_count": null,
   "metadata": {},
   "outputs": [],
   "source": [
    "#Scaling"
   ]
  },
  {
   "cell_type": "code",
   "execution_count": 184,
   "metadata": {},
   "outputs": [],
   "source": [
    "scaler = preprocessing.MinMaxScaler()\n",
    "\n",
    "X_train_scaled = scaler.fit_transform(X_train)\n",
    "X_test_scaled = scaler.fit_transform(X_test)\n",
    "X_train_df = pd.DataFrame(X_train_scaled)"
   ]
  },
  {
   "cell_type": "code",
   "execution_count": 185,
   "metadata": {},
   "outputs": [
    {
     "data": {
      "text/plain": [
       "<bound method DataFrame.info of        DATE  LNS11300060        GDP  CIVPART    M1V  M2REAL     M2SL    M2V  \\\n",
       "0    726468         83.8   5872.701     66.8  7.356  2483.8   3166.8  1.848   \n",
       "1    726499         83.8   5872.701     66.7  7.356  2483.8   3179.2  1.848   \n",
       "2    726527         83.6   5872.701     66.7  7.356  2480.6   3190.1  1.848   \n",
       "3    726558         83.5   5960.028     66.6  7.391  2483.8   3201.6  1.859   \n",
       "4    726588         83.5   5960.028     66.6  7.391  2479.2   3200.6  1.859   \n",
       "..      ...          ...        ...      ...    ...     ...      ...    ...   \n",
       "312  735964         81.1  18525.933     62.7  5.927  5247.1  12469.9  1.476   \n",
       "313  735995         81.1  18525.933     62.8  5.927  5290.7  12556.7  1.476   \n",
       "314  736024         81.3  18525.933     63.0  5.927  5299.4  12616.7  1.476   \n",
       "315  736055         81.2  18711.702     62.9  5.798  5314.2  12700.4  1.466   \n",
       "316  736085         81.2  18711.702     62.7  5.798  5329.1  12766.2  1.466   \n",
       "\n",
       "      MCUMFN   DGORDER  MEDCPIM158SFRBCLE   PCEDG  DPCCRV1A225NBEA    IPMAN  \\\n",
       "0    81.3184  114535.0           5.216140   536.4              4.1  57.9700   \n",
       "1    82.2381  114535.0           4.981650   505.9              4.1  58.7845   \n",
       "2    82.4549  114535.0           5.250468   503.8              4.1  59.0954   \n",
       "3    81.9226  114535.0           5.314374   505.7              4.1  58.8633   \n",
       "4    81.9744  114535.0           3.966494   495.3              4.1  59.0444   \n",
       "..       ...       ...                ...     ...              ...      ...   \n",
       "312  76.2520  228376.0           2.708417  1329.7              1.6  99.7682   \n",
       "313  75.9220  218324.0           2.537714  1353.1              1.6  99.4033   \n",
       "314  75.8311  217946.0           2.222005  1333.2              1.6  99.3585   \n",
       "315  75.6408  230089.0           3.825478  1339.2              1.6  99.1874   \n",
       "316  75.5281  222343.0           3.280519  1340.2              1.6  99.1171   \n",
       "\n",
       "     UNEMPLOY  CORESTICKM159SFRBATL  CCEUSP01USM651N  EXUSUK    EXJPUS  \\\n",
       "0        6752              4.905908         0.878426  1.6512  144.9819   \n",
       "1        6651              4.917559         0.878426  1.6961  145.6932   \n",
       "2        6598              5.191525         0.878426  1.6245  153.3082   \n",
       "3        6797              5.276985         0.878426  1.6372  158.4586   \n",
       "4        6742              5.166732         0.878426  1.6774  154.0441   \n",
       "..        ...                   ...              ...     ...       ...   \n",
       "312      7627              2.460879         0.915751  1.4392  118.2258   \n",
       "313      7702              2.538253         0.918442  1.4290  114.6155   \n",
       "314      7961              2.526214         0.878349  1.4249  112.9317   \n",
       "315      8067              2.531430         0.876962  1.4319  109.5519   \n",
       "316      7652              2.565678         0.896539  1.4524  108.8481   \n",
       "\n",
       "     Inflation Change  \n",
       "0                 0.0  \n",
       "1                 0.2  \n",
       "2                 0.3  \n",
       "3                -0.1  \n",
       "4                 0.0  \n",
       "..                ...  \n",
       "312               0.1  \n",
       "313               0.1  \n",
       "314              -0.1  \n",
       "315              -0.1  \n",
       "316               0.1  \n",
       "\n",
       "[317 rows x 20 columns]>"
      ]
     },
     "execution_count": 185,
     "metadata": {},
     "output_type": "execute_result"
    }
   ],
   "source": [
    "X_train.info"
   ]
  },
  {
   "cell_type": "code",
   "execution_count": 186,
   "metadata": {},
   "outputs": [
    {
     "data": {
      "text/html": [
       "<style>#sk-container-id-18 {color: black;background-color: white;}#sk-container-id-18 pre{padding: 0;}#sk-container-id-18 div.sk-toggleable {background-color: white;}#sk-container-id-18 label.sk-toggleable__label {cursor: pointer;display: block;width: 100%;margin-bottom: 0;padding: 0.3em;box-sizing: border-box;text-align: center;}#sk-container-id-18 label.sk-toggleable__label-arrow:before {content: \"▸\";float: left;margin-right: 0.25em;color: #696969;}#sk-container-id-18 label.sk-toggleable__label-arrow:hover:before {color: black;}#sk-container-id-18 div.sk-estimator:hover label.sk-toggleable__label-arrow:before {color: black;}#sk-container-id-18 div.sk-toggleable__content {max-height: 0;max-width: 0;overflow: hidden;text-align: left;background-color: #f0f8ff;}#sk-container-id-18 div.sk-toggleable__content pre {margin: 0.2em;color: black;border-radius: 0.25em;background-color: #f0f8ff;}#sk-container-id-18 input.sk-toggleable__control:checked~div.sk-toggleable__content {max-height: 200px;max-width: 100%;overflow: auto;}#sk-container-id-18 input.sk-toggleable__control:checked~label.sk-toggleable__label-arrow:before {content: \"▾\";}#sk-container-id-18 div.sk-estimator input.sk-toggleable__control:checked~label.sk-toggleable__label {background-color: #d4ebff;}#sk-container-id-18 div.sk-label input.sk-toggleable__control:checked~label.sk-toggleable__label {background-color: #d4ebff;}#sk-container-id-18 input.sk-hidden--visually {border: 0;clip: rect(1px 1px 1px 1px);clip: rect(1px, 1px, 1px, 1px);height: 1px;margin: -1px;overflow: hidden;padding: 0;position: absolute;width: 1px;}#sk-container-id-18 div.sk-estimator {font-family: monospace;background-color: #f0f8ff;border: 1px dotted black;border-radius: 0.25em;box-sizing: border-box;margin-bottom: 0.5em;}#sk-container-id-18 div.sk-estimator:hover {background-color: #d4ebff;}#sk-container-id-18 div.sk-parallel-item::after {content: \"\";width: 100%;border-bottom: 1px solid gray;flex-grow: 1;}#sk-container-id-18 div.sk-label:hover label.sk-toggleable__label {background-color: #d4ebff;}#sk-container-id-18 div.sk-serial::before {content: \"\";position: absolute;border-left: 1px solid gray;box-sizing: border-box;top: 0;bottom: 0;left: 50%;z-index: 0;}#sk-container-id-18 div.sk-serial {display: flex;flex-direction: column;align-items: center;background-color: white;padding-right: 0.2em;padding-left: 0.2em;position: relative;}#sk-container-id-18 div.sk-item {position: relative;z-index: 1;}#sk-container-id-18 div.sk-parallel {display: flex;align-items: stretch;justify-content: center;background-color: white;position: relative;}#sk-container-id-18 div.sk-item::before, #sk-container-id-18 div.sk-parallel-item::before {content: \"\";position: absolute;border-left: 1px solid gray;box-sizing: border-box;top: 0;bottom: 0;left: 50%;z-index: -1;}#sk-container-id-18 div.sk-parallel-item {display: flex;flex-direction: column;z-index: 1;position: relative;background-color: white;}#sk-container-id-18 div.sk-parallel-item:first-child::after {align-self: flex-end;width: 50%;}#sk-container-id-18 div.sk-parallel-item:last-child::after {align-self: flex-start;width: 50%;}#sk-container-id-18 div.sk-parallel-item:only-child::after {width: 0;}#sk-container-id-18 div.sk-dashed-wrapped {border: 1px dashed gray;margin: 0 0.4em 0.5em 0.4em;box-sizing: border-box;padding-bottom: 0.4em;background-color: white;}#sk-container-id-18 div.sk-label label {font-family: monospace;font-weight: bold;display: inline-block;line-height: 1.2em;}#sk-container-id-18 div.sk-label-container {text-align: center;}#sk-container-id-18 div.sk-container {/* jupyter's `normalize.less` sets `[hidden] { display: none; }` but bootstrap.min.css set `[hidden] { display: none !important; }` so we also need the `!important` here to be able to override the default hidden behavior on the sphinx rendered scikit-learn.org. See: https://github.com/scikit-learn/scikit-learn/issues/21755 */display: inline-block !important;position: relative;}#sk-container-id-18 div.sk-text-repr-fallback {display: none;}</style><div id=\"sk-container-id-18\" class=\"sk-top-container\"><div class=\"sk-text-repr-fallback\"><pre>LinearRegression()</pre><b>In a Jupyter environment, please rerun this cell to show the HTML representation or trust the notebook. <br />On GitHub, the HTML representation is unable to render, please try loading this page with nbviewer.org.</b></div><div class=\"sk-container\" hidden><div class=\"sk-item\"><div class=\"sk-estimator sk-toggleable\"><input class=\"sk-toggleable__control sk-hidden--visually\" id=\"sk-estimator-id-28\" type=\"checkbox\" checked><label for=\"sk-estimator-id-28\" class=\"sk-toggleable__label sk-toggleable__label-arrow\">LinearRegression</label><div class=\"sk-toggleable__content\"><pre>LinearRegression()</pre></div></div></div></div></div>"
      ],
      "text/plain": [
       "LinearRegression()"
      ]
     },
     "execution_count": 186,
     "metadata": {},
     "output_type": "execute_result"
    }
   ],
   "source": [
    "#linear regression simple model\n",
    "Linreg.fit(X_train_scaled, y_train)"
   ]
  },
  {
   "cell_type": "code",
   "execution_count": 187,
   "metadata": {},
   "outputs": [],
   "source": [
    "y_pred = Linreg.predict(X_train_scaled)"
   ]
  },
  {
   "cell_type": "code",
   "execution_count": 188,
   "metadata": {},
   "outputs": [
    {
     "data": {
      "text/plain": [
       "array([ -1.94556918,  -0.95022983,   8.49793835,   3.26890533,\n",
       "        -1.9030107 ,  15.4650264 , -19.02490525,   0.92278786,\n",
       "         2.56463355,  -1.12096802,   0.13247604,   0.86745122,\n",
       "        -0.10471587,   0.1674777 ,   1.61939087,  -0.32978745,\n",
       "        -0.20382149,  -0.34759878,   0.08947088,   0.84238728])"
      ]
     },
     "execution_count": 188,
     "metadata": {},
     "output_type": "execute_result"
    }
   ],
   "source": [
    "#results = confusion_matrix(y_test, y_pred)\n",
    "\n",
    "Linreg.coef_"
   ]
  },
  {
   "cell_type": "code",
   "execution_count": 189,
   "metadata": {},
   "outputs": [
    {
     "data": {
      "text/plain": [
       "array([[0.        ],\n",
       "       [0.45454545],\n",
       "       [0.        ],\n",
       "       ...,\n",
       "       [0.29892249],\n",
       "       [0.7350829 ],\n",
       "       [0.19047619]])"
      ]
     },
     "execution_count": 189,
     "metadata": {},
     "output_type": "execute_result"
    }
   ],
   "source": [
    "X_test_scaled2 = np.reshape(X_test_scaled, (-1,1))\n",
    "X_test_scaled2\n",
    "\n",
    "#print(Linreg.score(X_test_scaled2, y_test))"
   ]
  },
  {
   "cell_type": "code",
   "execution_count": 191,
   "metadata": {},
   "outputs": [
    {
     "data": {
      "text/html": [
       "<style>#sk-container-id-19 {color: black;background-color: white;}#sk-container-id-19 pre{padding: 0;}#sk-container-id-19 div.sk-toggleable {background-color: white;}#sk-container-id-19 label.sk-toggleable__label {cursor: pointer;display: block;width: 100%;margin-bottom: 0;padding: 0.3em;box-sizing: border-box;text-align: center;}#sk-container-id-19 label.sk-toggleable__label-arrow:before {content: \"▸\";float: left;margin-right: 0.25em;color: #696969;}#sk-container-id-19 label.sk-toggleable__label-arrow:hover:before {color: black;}#sk-container-id-19 div.sk-estimator:hover label.sk-toggleable__label-arrow:before {color: black;}#sk-container-id-19 div.sk-toggleable__content {max-height: 0;max-width: 0;overflow: hidden;text-align: left;background-color: #f0f8ff;}#sk-container-id-19 div.sk-toggleable__content pre {margin: 0.2em;color: black;border-radius: 0.25em;background-color: #f0f8ff;}#sk-container-id-19 input.sk-toggleable__control:checked~div.sk-toggleable__content {max-height: 200px;max-width: 100%;overflow: auto;}#sk-container-id-19 input.sk-toggleable__control:checked~label.sk-toggleable__label-arrow:before {content: \"▾\";}#sk-container-id-19 div.sk-estimator input.sk-toggleable__control:checked~label.sk-toggleable__label {background-color: #d4ebff;}#sk-container-id-19 div.sk-label input.sk-toggleable__control:checked~label.sk-toggleable__label {background-color: #d4ebff;}#sk-container-id-19 input.sk-hidden--visually {border: 0;clip: rect(1px 1px 1px 1px);clip: rect(1px, 1px, 1px, 1px);height: 1px;margin: -1px;overflow: hidden;padding: 0;position: absolute;width: 1px;}#sk-container-id-19 div.sk-estimator {font-family: monospace;background-color: #f0f8ff;border: 1px dotted black;border-radius: 0.25em;box-sizing: border-box;margin-bottom: 0.5em;}#sk-container-id-19 div.sk-estimator:hover {background-color: #d4ebff;}#sk-container-id-19 div.sk-parallel-item::after {content: \"\";width: 100%;border-bottom: 1px solid gray;flex-grow: 1;}#sk-container-id-19 div.sk-label:hover label.sk-toggleable__label {background-color: #d4ebff;}#sk-container-id-19 div.sk-serial::before {content: \"\";position: absolute;border-left: 1px solid gray;box-sizing: border-box;top: 0;bottom: 0;left: 50%;z-index: 0;}#sk-container-id-19 div.sk-serial {display: flex;flex-direction: column;align-items: center;background-color: white;padding-right: 0.2em;padding-left: 0.2em;position: relative;}#sk-container-id-19 div.sk-item {position: relative;z-index: 1;}#sk-container-id-19 div.sk-parallel {display: flex;align-items: stretch;justify-content: center;background-color: white;position: relative;}#sk-container-id-19 div.sk-item::before, #sk-container-id-19 div.sk-parallel-item::before {content: \"\";position: absolute;border-left: 1px solid gray;box-sizing: border-box;top: 0;bottom: 0;left: 50%;z-index: -1;}#sk-container-id-19 div.sk-parallel-item {display: flex;flex-direction: column;z-index: 1;position: relative;background-color: white;}#sk-container-id-19 div.sk-parallel-item:first-child::after {align-self: flex-end;width: 50%;}#sk-container-id-19 div.sk-parallel-item:last-child::after {align-self: flex-start;width: 50%;}#sk-container-id-19 div.sk-parallel-item:only-child::after {width: 0;}#sk-container-id-19 div.sk-dashed-wrapped {border: 1px dashed gray;margin: 0 0.4em 0.5em 0.4em;box-sizing: border-box;padding-bottom: 0.4em;background-color: white;}#sk-container-id-19 div.sk-label label {font-family: monospace;font-weight: bold;display: inline-block;line-height: 1.2em;}#sk-container-id-19 div.sk-label-container {text-align: center;}#sk-container-id-19 div.sk-container {/* jupyter's `normalize.less` sets `[hidden] { display: none; }` but bootstrap.min.css set `[hidden] { display: none !important; }` so we also need the `!important` here to be able to override the default hidden behavior on the sphinx rendered scikit-learn.org. See: https://github.com/scikit-learn/scikit-learn/issues/21755 */display: inline-block !important;position: relative;}#sk-container-id-19 div.sk-text-repr-fallback {display: none;}</style><div id=\"sk-container-id-19\" class=\"sk-top-container\"><div class=\"sk-text-repr-fallback\"><pre>LinearRegression()</pre><b>In a Jupyter environment, please rerun this cell to show the HTML representation or trust the notebook. <br />On GitHub, the HTML representation is unable to render, please try loading this page with nbviewer.org.</b></div><div class=\"sk-container\" hidden><div class=\"sk-item\"><div class=\"sk-estimator sk-toggleable\"><input class=\"sk-toggleable__control sk-hidden--visually\" id=\"sk-estimator-id-29\" type=\"checkbox\" checked><label for=\"sk-estimator-id-29\" class=\"sk-toggleable__label sk-toggleable__label-arrow\">LinearRegression</label><div class=\"sk-toggleable__content\"><pre>LinearRegression()</pre></div></div></div></div></div>"
      ],
      "text/plain": [
       "LinearRegression()"
      ]
     },
     "execution_count": 191,
     "metadata": {},
     "output_type": "execute_result"
    }
   ],
   "source": [
    "lr1 = LinearRegression()\n",
    "lr1.fit(X_train_scaled, y_train)"
   ]
  },
  {
   "cell_type": "code",
   "execution_count": 192,
   "metadata": {
    "scrolled": true
   },
   "outputs": [
    {
     "data": {
      "text/plain": [
       "0.35944792929556146"
      ]
     },
     "execution_count": 192,
     "metadata": {},
     "output_type": "execute_result"
    }
   ],
   "source": [
    "lr1.score(X_train_scaled, y_train)"
   ]
  },
  {
   "cell_type": "code",
   "execution_count": 193,
   "metadata": {},
   "outputs": [
    {
     "data": {
      "text/plain": [
       "-7.032337503924733"
      ]
     },
     "execution_count": 193,
     "metadata": {},
     "output_type": "execute_result"
    }
   ],
   "source": [
    "lr1.score(X_test_scaled, y_test)\n",
    "\n",
    "#oof"
   ]
  },
  {
   "cell_type": "code",
   "execution_count": 194,
   "metadata": {},
   "outputs": [],
   "source": [
    "#logistic regression simple model\n",
    "\n",
    "logreg_clf = LogisticRegression()"
   ]
  },
  {
   "cell_type": "code",
   "execution_count": 195,
   "metadata": {},
   "outputs": [
    {
     "data": {
      "text/html": [
       "<style>#sk-container-id-20 {color: black;background-color: white;}#sk-container-id-20 pre{padding: 0;}#sk-container-id-20 div.sk-toggleable {background-color: white;}#sk-container-id-20 label.sk-toggleable__label {cursor: pointer;display: block;width: 100%;margin-bottom: 0;padding: 0.3em;box-sizing: border-box;text-align: center;}#sk-container-id-20 label.sk-toggleable__label-arrow:before {content: \"▸\";float: left;margin-right: 0.25em;color: #696969;}#sk-container-id-20 label.sk-toggleable__label-arrow:hover:before {color: black;}#sk-container-id-20 div.sk-estimator:hover label.sk-toggleable__label-arrow:before {color: black;}#sk-container-id-20 div.sk-toggleable__content {max-height: 0;max-width: 0;overflow: hidden;text-align: left;background-color: #f0f8ff;}#sk-container-id-20 div.sk-toggleable__content pre {margin: 0.2em;color: black;border-radius: 0.25em;background-color: #f0f8ff;}#sk-container-id-20 input.sk-toggleable__control:checked~div.sk-toggleable__content {max-height: 200px;max-width: 100%;overflow: auto;}#sk-container-id-20 input.sk-toggleable__control:checked~label.sk-toggleable__label-arrow:before {content: \"▾\";}#sk-container-id-20 div.sk-estimator input.sk-toggleable__control:checked~label.sk-toggleable__label {background-color: #d4ebff;}#sk-container-id-20 div.sk-label input.sk-toggleable__control:checked~label.sk-toggleable__label {background-color: #d4ebff;}#sk-container-id-20 input.sk-hidden--visually {border: 0;clip: rect(1px 1px 1px 1px);clip: rect(1px, 1px, 1px, 1px);height: 1px;margin: -1px;overflow: hidden;padding: 0;position: absolute;width: 1px;}#sk-container-id-20 div.sk-estimator {font-family: monospace;background-color: #f0f8ff;border: 1px dotted black;border-radius: 0.25em;box-sizing: border-box;margin-bottom: 0.5em;}#sk-container-id-20 div.sk-estimator:hover {background-color: #d4ebff;}#sk-container-id-20 div.sk-parallel-item::after {content: \"\";width: 100%;border-bottom: 1px solid gray;flex-grow: 1;}#sk-container-id-20 div.sk-label:hover label.sk-toggleable__label {background-color: #d4ebff;}#sk-container-id-20 div.sk-serial::before {content: \"\";position: absolute;border-left: 1px solid gray;box-sizing: border-box;top: 0;bottom: 0;left: 50%;z-index: 0;}#sk-container-id-20 div.sk-serial {display: flex;flex-direction: column;align-items: center;background-color: white;padding-right: 0.2em;padding-left: 0.2em;position: relative;}#sk-container-id-20 div.sk-item {position: relative;z-index: 1;}#sk-container-id-20 div.sk-parallel {display: flex;align-items: stretch;justify-content: center;background-color: white;position: relative;}#sk-container-id-20 div.sk-item::before, #sk-container-id-20 div.sk-parallel-item::before {content: \"\";position: absolute;border-left: 1px solid gray;box-sizing: border-box;top: 0;bottom: 0;left: 50%;z-index: -1;}#sk-container-id-20 div.sk-parallel-item {display: flex;flex-direction: column;z-index: 1;position: relative;background-color: white;}#sk-container-id-20 div.sk-parallel-item:first-child::after {align-self: flex-end;width: 50%;}#sk-container-id-20 div.sk-parallel-item:last-child::after {align-self: flex-start;width: 50%;}#sk-container-id-20 div.sk-parallel-item:only-child::after {width: 0;}#sk-container-id-20 div.sk-dashed-wrapped {border: 1px dashed gray;margin: 0 0.4em 0.5em 0.4em;box-sizing: border-box;padding-bottom: 0.4em;background-color: white;}#sk-container-id-20 div.sk-label label {font-family: monospace;font-weight: bold;display: inline-block;line-height: 1.2em;}#sk-container-id-20 div.sk-label-container {text-align: center;}#sk-container-id-20 div.sk-container {/* jupyter's `normalize.less` sets `[hidden] { display: none; }` but bootstrap.min.css set `[hidden] { display: none !important; }` so we also need the `!important` here to be able to override the default hidden behavior on the sphinx rendered scikit-learn.org. See: https://github.com/scikit-learn/scikit-learn/issues/21755 */display: inline-block !important;position: relative;}#sk-container-id-20 div.sk-text-repr-fallback {display: none;}</style><div id=\"sk-container-id-20\" class=\"sk-top-container\"><div class=\"sk-text-repr-fallback\"><pre>LogisticRegression()</pre><b>In a Jupyter environment, please rerun this cell to show the HTML representation or trust the notebook. <br />On GitHub, the HTML representation is unable to render, please try loading this page with nbviewer.org.</b></div><div class=\"sk-container\" hidden><div class=\"sk-item\"><div class=\"sk-estimator sk-toggleable\"><input class=\"sk-toggleable__control sk-hidden--visually\" id=\"sk-estimator-id-30\" type=\"checkbox\" checked><label for=\"sk-estimator-id-30\" class=\"sk-toggleable__label sk-toggleable__label-arrow\">LogisticRegression</label><div class=\"sk-toggleable__content\"><pre>LogisticRegression()</pre></div></div></div></div></div>"
      ],
      "text/plain": [
       "LogisticRegression()"
      ]
     },
     "execution_count": 195,
     "metadata": {},
     "output_type": "execute_result"
    }
   ],
   "source": [
    "logreg_clf.fit(X_train_scaled, y_train)"
   ]
  },
  {
   "cell_type": "code",
   "execution_count": 196,
   "metadata": {},
   "outputs": [
    {
     "data": {
      "text/plain": [
       "0.6971608832807571"
      ]
     },
     "execution_count": 196,
     "metadata": {},
     "output_type": "execute_result"
    }
   ],
   "source": [
    "logreg_clf.score(X_train_scaled, y_train)"
   ]
  },
  {
   "cell_type": "code",
   "execution_count": 197,
   "metadata": {},
   "outputs": [
    {
     "data": {
      "text/plain": [
       "0.5569620253164557"
      ]
     },
     "execution_count": 197,
     "metadata": {},
     "output_type": "execute_result"
    }
   ],
   "source": [
    "logreg_clf.score(X_test_scaled, y_test)"
   ]
  },
  {
   "cell_type": "code",
   "execution_count": 198,
   "metadata": {},
   "outputs": [
    {
     "data": {
      "text/html": [
       "<style>#sk-container-id-21 {color: black;background-color: white;}#sk-container-id-21 pre{padding: 0;}#sk-container-id-21 div.sk-toggleable {background-color: white;}#sk-container-id-21 label.sk-toggleable__label {cursor: pointer;display: block;width: 100%;margin-bottom: 0;padding: 0.3em;box-sizing: border-box;text-align: center;}#sk-container-id-21 label.sk-toggleable__label-arrow:before {content: \"▸\";float: left;margin-right: 0.25em;color: #696969;}#sk-container-id-21 label.sk-toggleable__label-arrow:hover:before {color: black;}#sk-container-id-21 div.sk-estimator:hover label.sk-toggleable__label-arrow:before {color: black;}#sk-container-id-21 div.sk-toggleable__content {max-height: 0;max-width: 0;overflow: hidden;text-align: left;background-color: #f0f8ff;}#sk-container-id-21 div.sk-toggleable__content pre {margin: 0.2em;color: black;border-radius: 0.25em;background-color: #f0f8ff;}#sk-container-id-21 input.sk-toggleable__control:checked~div.sk-toggleable__content {max-height: 200px;max-width: 100%;overflow: auto;}#sk-container-id-21 input.sk-toggleable__control:checked~label.sk-toggleable__label-arrow:before {content: \"▾\";}#sk-container-id-21 div.sk-estimator input.sk-toggleable__control:checked~label.sk-toggleable__label {background-color: #d4ebff;}#sk-container-id-21 div.sk-label input.sk-toggleable__control:checked~label.sk-toggleable__label {background-color: #d4ebff;}#sk-container-id-21 input.sk-hidden--visually {border: 0;clip: rect(1px 1px 1px 1px);clip: rect(1px, 1px, 1px, 1px);height: 1px;margin: -1px;overflow: hidden;padding: 0;position: absolute;width: 1px;}#sk-container-id-21 div.sk-estimator {font-family: monospace;background-color: #f0f8ff;border: 1px dotted black;border-radius: 0.25em;box-sizing: border-box;margin-bottom: 0.5em;}#sk-container-id-21 div.sk-estimator:hover {background-color: #d4ebff;}#sk-container-id-21 div.sk-parallel-item::after {content: \"\";width: 100%;border-bottom: 1px solid gray;flex-grow: 1;}#sk-container-id-21 div.sk-label:hover label.sk-toggleable__label {background-color: #d4ebff;}#sk-container-id-21 div.sk-serial::before {content: \"\";position: absolute;border-left: 1px solid gray;box-sizing: border-box;top: 0;bottom: 0;left: 50%;z-index: 0;}#sk-container-id-21 div.sk-serial {display: flex;flex-direction: column;align-items: center;background-color: white;padding-right: 0.2em;padding-left: 0.2em;position: relative;}#sk-container-id-21 div.sk-item {position: relative;z-index: 1;}#sk-container-id-21 div.sk-parallel {display: flex;align-items: stretch;justify-content: center;background-color: white;position: relative;}#sk-container-id-21 div.sk-item::before, #sk-container-id-21 div.sk-parallel-item::before {content: \"\";position: absolute;border-left: 1px solid gray;box-sizing: border-box;top: 0;bottom: 0;left: 50%;z-index: -1;}#sk-container-id-21 div.sk-parallel-item {display: flex;flex-direction: column;z-index: 1;position: relative;background-color: white;}#sk-container-id-21 div.sk-parallel-item:first-child::after {align-self: flex-end;width: 50%;}#sk-container-id-21 div.sk-parallel-item:last-child::after {align-self: flex-start;width: 50%;}#sk-container-id-21 div.sk-parallel-item:only-child::after {width: 0;}#sk-container-id-21 div.sk-dashed-wrapped {border: 1px dashed gray;margin: 0 0.4em 0.5em 0.4em;box-sizing: border-box;padding-bottom: 0.4em;background-color: white;}#sk-container-id-21 div.sk-label label {font-family: monospace;font-weight: bold;display: inline-block;line-height: 1.2em;}#sk-container-id-21 div.sk-label-container {text-align: center;}#sk-container-id-21 div.sk-container {/* jupyter's `normalize.less` sets `[hidden] { display: none; }` but bootstrap.min.css set `[hidden] { display: none !important; }` so we also need the `!important` here to be able to override the default hidden behavior on the sphinx rendered scikit-learn.org. See: https://github.com/scikit-learn/scikit-learn/issues/21755 */display: inline-block !important;position: relative;}#sk-container-id-21 div.sk-text-repr-fallback {display: none;}</style><div id=\"sk-container-id-21\" class=\"sk-top-container\"><div class=\"sk-text-repr-fallback\"><pre>DecisionTreeClassifier(random_state=42)</pre><b>In a Jupyter environment, please rerun this cell to show the HTML representation or trust the notebook. <br />On GitHub, the HTML representation is unable to render, please try loading this page with nbviewer.org.</b></div><div class=\"sk-container\" hidden><div class=\"sk-item\"><div class=\"sk-estimator sk-toggleable\"><input class=\"sk-toggleable__control sk-hidden--visually\" id=\"sk-estimator-id-31\" type=\"checkbox\" checked><label for=\"sk-estimator-id-31\" class=\"sk-toggleable__label sk-toggleable__label-arrow\">DecisionTreeClassifier</label><div class=\"sk-toggleable__content\"><pre>DecisionTreeClassifier(random_state=42)</pre></div></div></div></div></div>"
      ],
      "text/plain": [
       "DecisionTreeClassifier(random_state=42)"
      ]
     },
     "execution_count": 198,
     "metadata": {},
     "output_type": "execute_result"
    }
   ],
   "source": [
    "## Making Decision Tree - change to classifier\n",
    "\n",
    "tree_clf = DecisionTreeClassifier(criterion = 'gini', random_state=42)\n",
    "\n",
    "tree_clf.fit(X_train, y_train)"
   ]
  },
  {
   "cell_type": "code",
   "execution_count": 265,
   "metadata": {},
   "outputs": [
    {
     "name": "stdout",
     "output_type": "stream",
     "text": [
      "Training: 0.9274447949526814\n",
      "Testing: 0.7848101265822784\n",
      "              precision    recall  f1-score   support\n",
      "\n",
      "          -1       0.00      0.00      0.00         5\n",
      "           0       0.78      0.94      0.85        52\n",
      "           1       0.81      0.59      0.68        22\n",
      "\n",
      "    accuracy                           0.78        79\n",
      "   macro avg       0.53      0.51      0.51        79\n",
      "weighted avg       0.74      0.78      0.75        79\n",
      "\n"
     ]
    }
   ],
   "source": [
    "tree_clf = DecisionTreeClassifier(criterion = 'gini', max_depth = 30, splitter = 'best' , random_state=42, min_samples_split=2, \\\n",
    "                                 min_samples_leaf=2)\n",
    "tree_clf.fit(X_train, y_train)\n",
    "\n",
    "tree_predictions = tree_clf.predict(X_test)\n",
    "# Accuracy on training data & test data\n",
    "print('Training:', tree_clf.score(X_train, y_train))\n",
    "print('Testing:', tree_clf.score(X_test, y_test))\n",
    "print(classification_report(y_test,tree_predictions))\n"
   ]
  },
  {
   "cell_type": "code",
   "execution_count": 278,
   "metadata": {},
   "outputs": [
    {
     "data": {
      "image/png": "[encoded data removed]",
      "text/plain": [
       "<Figure size 1000x700 with 1 Axes>"
      ]
     },
     "metadata": {},
     "output_type": "display_data"
    }
   ],
   "source": [
    "f, ax = plt.subplots(figsize=(10, 7))\n",
    "plot_tree(tree_clf, ax=ax);"
   ]
  },
  {
   "cell_type": "code",
   "execution_count": null,
   "metadata": {},
   "outputs": [],
   "source": [
    "#making bagging classifier"
   ]
  },
  {
   "cell_type": "code",
   "execution_count": 210,
   "metadata": {},
   "outputs": [],
   "source": [
    "bag_class_decision = BaggingClassifier(base_estimator = DecisionTreeClassifier())\n",
    "bag_pipe = Pipeline([('model',bag_class_decision)])\n",
    "params = {    'base_estimator__max_depth' : [1, 10, 15, 20],\n",
    "    'max_samples' : [0.05, 0.1, 0.2, 0.5]\n",
    "         }\n",
    "cv = GridSearchCV(estimator = bag_pipe, param_grid = params, cv = 5)"
   ]
  },
  {
   "cell_type": "code",
   "execution_count": 254,
   "metadata": {},
   "outputs": [],
   "source": [
    "bag_clf = BaggingClassifier(\n",
    "                            DecisionTreeClassifier( max_depth=200,\n",
    "                                                    random_state=42,\n",
    "                                                    criterion='gini',\n",
    "                                                    splitter = 'best', \n",
    "                                                    min_samples_split=5,\n",
    "                                                    min_samples_leaf=5),\n",
    "                                                    \n",
    "n_estimators=500,\n",
    "max_samples=150,\n",
    "bootstrap=True,\n",
    "random_state=42)"
   ]
  },
  {
   "cell_type": "code",
   "execution_count": 255,
   "metadata": {},
   "outputs": [
    {
     "data": {
      "text/html": [
       "<style>#sk-container-id-35 {color: black;background-color: white;}#sk-container-id-35 pre{padding: 0;}#sk-container-id-35 div.sk-toggleable {background-color: white;}#sk-container-id-35 label.sk-toggleable__label {cursor: pointer;display: block;width: 100%;margin-bottom: 0;padding: 0.3em;box-sizing: border-box;text-align: center;}#sk-container-id-35 label.sk-toggleable__label-arrow:before {content: \"▸\";float: left;margin-right: 0.25em;color: #696969;}#sk-container-id-35 label.sk-toggleable__label-arrow:hover:before {color: black;}#sk-container-id-35 div.sk-estimator:hover label.sk-toggleable__label-arrow:before {color: black;}#sk-container-id-35 div.sk-toggleable__content {max-height: 0;max-width: 0;overflow: hidden;text-align: left;background-color: #f0f8ff;}#sk-container-id-35 div.sk-toggleable__content pre {margin: 0.2em;color: black;border-radius: 0.25em;background-color: #f0f8ff;}#sk-container-id-35 input.sk-toggleable__control:checked~div.sk-toggleable__content {max-height: 200px;max-width: 100%;overflow: auto;}#sk-container-id-35 input.sk-toggleable__control:checked~label.sk-toggleable__label-arrow:before {content: \"▾\";}#sk-container-id-35 div.sk-estimator input.sk-toggleable__control:checked~label.sk-toggleable__label {background-color: #d4ebff;}#sk-container-id-35 div.sk-label input.sk-toggleable__control:checked~label.sk-toggleable__label {background-color: #d4ebff;}#sk-container-id-35 input.sk-hidden--visually {border: 0;clip: rect(1px 1px 1px 1px);clip: rect(1px, 1px, 1px, 1px);height: 1px;margin: -1px;overflow: hidden;padding: 0;position: absolute;width: 1px;}#sk-container-id-35 div.sk-estimator {font-family: monospace;background-color: #f0f8ff;border: 1px dotted black;border-radius: 0.25em;box-sizing: border-box;margin-bottom: 0.5em;}#sk-container-id-35 div.sk-estimator:hover {background-color: #d4ebff;}#sk-container-id-35 div.sk-parallel-item::after {content: \"\";width: 100%;border-bottom: 1px solid gray;flex-grow: 1;}#sk-container-id-35 div.sk-label:hover label.sk-toggleable__label {background-color: #d4ebff;}#sk-container-id-35 div.sk-serial::before {content: \"\";position: absolute;border-left: 1px solid gray;box-sizing: border-box;top: 0;bottom: 0;left: 50%;z-index: 0;}#sk-container-id-35 div.sk-serial {display: flex;flex-direction: column;align-items: center;background-color: white;padding-right: 0.2em;padding-left: 0.2em;position: relative;}#sk-container-id-35 div.sk-item {position: relative;z-index: 1;}#sk-container-id-35 div.sk-parallel {display: flex;align-items: stretch;justify-content: center;background-color: white;position: relative;}#sk-container-id-35 div.sk-item::before, #sk-container-id-35 div.sk-parallel-item::before {content: \"\";position: absolute;border-left: 1px solid gray;box-sizing: border-box;top: 0;bottom: 0;left: 50%;z-index: -1;}#sk-container-id-35 div.sk-parallel-item {display: flex;flex-direction: column;z-index: 1;position: relative;background-color: white;}#sk-container-id-35 div.sk-parallel-item:first-child::after {align-self: flex-end;width: 50%;}#sk-container-id-35 div.sk-parallel-item:last-child::after {align-self: flex-start;width: 50%;}#sk-container-id-35 div.sk-parallel-item:only-child::after {width: 0;}#sk-container-id-35 div.sk-dashed-wrapped {border: 1px dashed gray;margin: 0 0.4em 0.5em 0.4em;box-sizing: border-box;padding-bottom: 0.4em;background-color: white;}#sk-container-id-35 div.sk-label label {font-family: monospace;font-weight: bold;display: inline-block;line-height: 1.2em;}#sk-container-id-35 div.sk-label-container {text-align: center;}#sk-container-id-35 div.sk-container {/* jupyter's `normalize.less` sets `[hidden] { display: none; }` but bootstrap.min.css set `[hidden] { display: none !important; }` so we also need the `!important` here to be able to override the default hidden behavior on the sphinx rendered scikit-learn.org. See: https://github.com/scikit-learn/scikit-learn/issues/21755 */display: inline-block !important;position: relative;}#sk-container-id-35 div.sk-text-repr-fallback {display: none;}</style><div id=\"sk-container-id-35\" class=\"sk-top-container\"><div class=\"sk-text-repr-fallback\"><pre>BaggingClassifier(estimator=DecisionTreeClassifier(max_depth=200,\n",
       "                                                   min_samples_leaf=5,\n",
       "                                                   min_samples_split=5,\n",
       "                                                   random_state=42),\n",
       "                  max_samples=150, n_estimators=500, random_state=42)</pre><b>In a Jupyter environment, please rerun this cell to show the HTML representation or trust the notebook. <br />On GitHub, the HTML representation is unable to render, please try loading this page with nbviewer.org.</b></div><div class=\"sk-container\" hidden><div class=\"sk-item sk-dashed-wrapped\"><div class=\"sk-label-container\"><div class=\"sk-label sk-toggleable\"><input class=\"sk-toggleable__control sk-hidden--visually\" id=\"sk-estimator-id-70\" type=\"checkbox\" ><label for=\"sk-estimator-id-70\" class=\"sk-toggleable__label sk-toggleable__label-arrow\">BaggingClassifier</label><div class=\"sk-toggleable__content\"><pre>BaggingClassifier(estimator=DecisionTreeClassifier(max_depth=200,\n",
       "                                                   min_samples_leaf=5,\n",
       "                                                   min_samples_split=5,\n",
       "                                                   random_state=42),\n",
       "                  max_samples=150, n_estimators=500, random_state=42)</pre></div></div></div><div class=\"sk-parallel\"><div class=\"sk-parallel-item\"><div class=\"sk-item\"><div class=\"sk-label-container\"><div class=\"sk-label sk-toggleable\"><input class=\"sk-toggleable__control sk-hidden--visually\" id=\"sk-estimator-id-71\" type=\"checkbox\" ><label for=\"sk-estimator-id-71\" class=\"sk-toggleable__label sk-toggleable__label-arrow\">estimator: DecisionTreeClassifier</label><div class=\"sk-toggleable__content\"><pre>DecisionTreeClassifier(max_depth=200, min_samples_leaf=5, min_samples_split=5,\n",
       "                       random_state=42)</pre></div></div></div><div class=\"sk-serial\"><div class=\"sk-item\"><div class=\"sk-estimator sk-toggleable\"><input class=\"sk-toggleable__control sk-hidden--visually\" id=\"sk-estimator-id-72\" type=\"checkbox\" ><label for=\"sk-estimator-id-72\" class=\"sk-toggleable__label sk-toggleable__label-arrow\">DecisionTreeClassifier</label><div class=\"sk-toggleable__content\"><pre>DecisionTreeClassifier(max_depth=200, min_samples_leaf=5, min_samples_split=5,\n",
       "                       random_state=42)</pre></div></div></div></div></div></div></div></div></div></div>"
      ],
      "text/plain": [
       "BaggingClassifier(estimator=DecisionTreeClassifier(max_depth=200,\n",
       "                                                   min_samples_leaf=5,\n",
       "                                                   min_samples_split=5,\n",
       "                                                   random_state=42),\n",
       "                  max_samples=150, n_estimators=500, random_state=42)"
      ]
     },
     "execution_count": 255,
     "metadata": {},
     "output_type": "execute_result"
    }
   ],
   "source": [
    "bag_clf.fit(X_train, y_train)"
   ]
  },
  {
   "cell_type": "code",
   "execution_count": 256,
   "metadata": {},
   "outputs": [
    {
     "name": "stdout",
     "output_type": "stream",
     "text": [
      "Training: 0.861198738170347\n",
      "Testing: 0.6582278481012658\n",
      "              precision    recall  f1-score   support\n",
      "\n",
      "          -1       0.00      0.00      0.00         5\n",
      "           0       0.66      1.00      0.79        52\n",
      "           1       0.00      0.00      0.00        22\n",
      "\n",
      "    accuracy                           0.66        79\n",
      "   macro avg       0.22      0.33      0.26        79\n",
      "weighted avg       0.43      0.66      0.52        79\n",
      "\n"
     ]
    }
   ],
   "source": [
    "bag_predictions = bag_clf.predict(X_test)\n",
    "# Accuracy on training data & test data\n",
    "print('Training:', bag_clf.score(X_train, y_train))\n",
    "print('Testing:', bag_clf.score(X_test, y_test))\n",
    "print(classification_report(y_test,bag_predictions))"
   ]
  },
  {
   "cell_type": "code",
   "execution_count": 257,
   "metadata": {},
   "outputs": [
    {
     "data": {
      "text/html": [
       "<style>#sk-container-id-36 {color: black;background-color: white;}#sk-container-id-36 pre{padding: 0;}#sk-container-id-36 div.sk-toggleable {background-color: white;}#sk-container-id-36 label.sk-toggleable__label {cursor: pointer;display: block;width: 100%;margin-bottom: 0;padding: 0.3em;box-sizing: border-box;text-align: center;}#sk-container-id-36 label.sk-toggleable__label-arrow:before {content: \"▸\";float: left;margin-right: 0.25em;color: #696969;}#sk-container-id-36 label.sk-toggleable__label-arrow:hover:before {color: black;}#sk-container-id-36 div.sk-estimator:hover label.sk-toggleable__label-arrow:before {color: black;}#sk-container-id-36 div.sk-toggleable__content {max-height: 0;max-width: 0;overflow: hidden;text-align: left;background-color: #f0f8ff;}#sk-container-id-36 div.sk-toggleable__content pre {margin: 0.2em;color: black;border-radius: 0.25em;background-color: #f0f8ff;}#sk-container-id-36 input.sk-toggleable__control:checked~div.sk-toggleable__content {max-height: 200px;max-width: 100%;overflow: auto;}#sk-container-id-36 input.sk-toggleable__control:checked~label.sk-toggleable__label-arrow:before {content: \"▾\";}#sk-container-id-36 div.sk-estimator input.sk-toggleable__control:checked~label.sk-toggleable__label {background-color: #d4ebff;}#sk-container-id-36 div.sk-label input.sk-toggleable__control:checked~label.sk-toggleable__label {background-color: #d4ebff;}#sk-container-id-36 input.sk-hidden--visually {border: 0;clip: rect(1px 1px 1px 1px);clip: rect(1px, 1px, 1px, 1px);height: 1px;margin: -1px;overflow: hidden;padding: 0;position: absolute;width: 1px;}#sk-container-id-36 div.sk-estimator {font-family: monospace;background-color: #f0f8ff;border: 1px dotted black;border-radius: 0.25em;box-sizing: border-box;margin-bottom: 0.5em;}#sk-container-id-36 div.sk-estimator:hover {background-color: #d4ebff;}#sk-container-id-36 div.sk-parallel-item::after {content: \"\";width: 100%;border-bottom: 1px solid gray;flex-grow: 1;}#sk-container-id-36 div.sk-label:hover label.sk-toggleable__label {background-color: #d4ebff;}#sk-container-id-36 div.sk-serial::before {content: \"\";position: absolute;border-left: 1px solid gray;box-sizing: border-box;top: 0;bottom: 0;left: 50%;z-index: 0;}#sk-container-id-36 div.sk-serial {display: flex;flex-direction: column;align-items: center;background-color: white;padding-right: 0.2em;padding-left: 0.2em;position: relative;}#sk-container-id-36 div.sk-item {position: relative;z-index: 1;}#sk-container-id-36 div.sk-parallel {display: flex;align-items: stretch;justify-content: center;background-color: white;position: relative;}#sk-container-id-36 div.sk-item::before, #sk-container-id-36 div.sk-parallel-item::before {content: \"\";position: absolute;border-left: 1px solid gray;box-sizing: border-box;top: 0;bottom: 0;left: 50%;z-index: -1;}#sk-container-id-36 div.sk-parallel-item {display: flex;flex-direction: column;z-index: 1;position: relative;background-color: white;}#sk-container-id-36 div.sk-parallel-item:first-child::after {align-self: flex-end;width: 50%;}#sk-container-id-36 div.sk-parallel-item:last-child::after {align-self: flex-start;width: 50%;}#sk-container-id-36 div.sk-parallel-item:only-child::after {width: 0;}#sk-container-id-36 div.sk-dashed-wrapped {border: 1px dashed gray;margin: 0 0.4em 0.5em 0.4em;box-sizing: border-box;padding-bottom: 0.4em;background-color: white;}#sk-container-id-36 div.sk-label label {font-family: monospace;font-weight: bold;display: inline-block;line-height: 1.2em;}#sk-container-id-36 div.sk-label-container {text-align: center;}#sk-container-id-36 div.sk-container {/* jupyter's `normalize.less` sets `[hidden] { display: none; }` but bootstrap.min.css set `[hidden] { display: none !important; }` so we also need the `!important` here to be able to override the default hidden behavior on the sphinx rendered scikit-learn.org. See: https://github.com/scikit-learn/scikit-learn/issues/21755 */display: inline-block !important;position: relative;}#sk-container-id-36 div.sk-text-repr-fallback {display: none;}</style><div id=\"sk-container-id-36\" class=\"sk-top-container\"><div class=\"sk-text-repr-fallback\"><pre>GridSearchCV(estimator=BaggingClassifier(estimator=DecisionTreeClassifier(),\n",
       "                                         n_estimators=100),\n",
       "             param_grid={&#x27;base_estimator__max_depth&#x27;: [1, 10, 15, 20],\n",
       "                         &#x27;max_samples&#x27;: [0.05, 0.1, 0.2, 0.5]})</pre><b>In a Jupyter environment, please rerun this cell to show the HTML representation or trust the notebook. <br />On GitHub, the HTML representation is unable to render, please try loading this page with nbviewer.org.</b></div><div class=\"sk-container\" hidden><div class=\"sk-item sk-dashed-wrapped\"><div class=\"sk-label-container\"><div class=\"sk-label sk-toggleable\"><input class=\"sk-toggleable__control sk-hidden--visually\" id=\"sk-estimator-id-73\" type=\"checkbox\" ><label for=\"sk-estimator-id-73\" class=\"sk-toggleable__label sk-toggleable__label-arrow\">GridSearchCV</label><div class=\"sk-toggleable__content\"><pre>GridSearchCV(estimator=BaggingClassifier(estimator=DecisionTreeClassifier(),\n",
       "                                         n_estimators=100),\n",
       "             param_grid={&#x27;base_estimator__max_depth&#x27;: [1, 10, 15, 20],\n",
       "                         &#x27;max_samples&#x27;: [0.05, 0.1, 0.2, 0.5]})</pre></div></div></div><div class=\"sk-parallel\"><div class=\"sk-parallel-item\"><div class=\"sk-item\"><div class=\"sk-label-container\"><div class=\"sk-label sk-toggleable\"><input class=\"sk-toggleable__control sk-hidden--visually\" id=\"sk-estimator-id-74\" type=\"checkbox\" ><label for=\"sk-estimator-id-74\" class=\"sk-toggleable__label sk-toggleable__label-arrow\">estimator: BaggingClassifier</label><div class=\"sk-toggleable__content\"><pre>BaggingClassifier(estimator=DecisionTreeClassifier(), n_estimators=100)</pre></div></div></div><div class=\"sk-serial\"><div class=\"sk-item sk-dashed-wrapped\"><div class=\"sk-parallel\"><div class=\"sk-parallel-item\"><div class=\"sk-item\"><div class=\"sk-label-container\"><div class=\"sk-label sk-toggleable\"><input class=\"sk-toggleable__control sk-hidden--visually\" id=\"sk-estimator-id-75\" type=\"checkbox\" ><label for=\"sk-estimator-id-75\" class=\"sk-toggleable__label sk-toggleable__label-arrow\">estimator: DecisionTreeClassifier</label><div class=\"sk-toggleable__content\"><pre>DecisionTreeClassifier()</pre></div></div></div><div class=\"sk-serial\"><div class=\"sk-item\"><div class=\"sk-estimator sk-toggleable\"><input class=\"sk-toggleable__control sk-hidden--visually\" id=\"sk-estimator-id-76\" type=\"checkbox\" ><label for=\"sk-estimator-id-76\" class=\"sk-toggleable__label sk-toggleable__label-arrow\">DecisionTreeClassifier</label><div class=\"sk-toggleable__content\"><pre>DecisionTreeClassifier()</pre></div></div></div></div></div></div></div></div></div></div></div></div></div></div></div>"
      ],
      "text/plain": [
       "GridSearchCV(estimator=BaggingClassifier(estimator=DecisionTreeClassifier(),\n",
       "                                         n_estimators=100),\n",
       "             param_grid={'base_estimator__max_depth': [1, 10, 15, 20],\n",
       "                         'max_samples': [0.05, 0.1, 0.2, 0.5]})"
      ]
     },
     "execution_count": 257,
     "metadata": {},
     "output_type": "execute_result"
    }
   ],
   "source": [
    "param_grid = {\n",
    "    'base_estimator__max_depth' : [1, 10, 15, 20],\n",
    "    'max_samples' : [0.05, 0.1, 0.2, 0.5]\n",
    "}\n",
    "clf_test = GridSearchCV(BaggingClassifier(DecisionTreeClassifier(),\n",
    "                                     n_estimators = 100),\n",
    "                   param_grid)\n",
    "clf_test.fit(X_train_scaled, y_train)"
   ]
  },
  {
   "cell_type": "code",
   "execution_count": null,
   "metadata": {},
   "outputs": [],
   "source": []
  },
  {
   "cell_type": "code",
   "execution_count": 213,
   "metadata": {},
   "outputs": [
    {
     "data": {
      "text/plain": [
       "{'base_estimator__max_depth': 1, 'max_samples': 0.05}"
      ]
     },
     "execution_count": 213,
     "metadata": {},
     "output_type": "execute_result"
    }
   ],
   "source": [
    "best_model = clf_test.best_estimator_\n",
    "clf_test.best_params_"
   ]
  },
  {
   "cell_type": "code",
   "execution_count": 214,
   "metadata": {},
   "outputs": [
    {
     "name": "stdout",
     "output_type": "stream",
     "text": [
      "              precision    recall  f1-score   support\n",
      "\n",
      "          -1       0.06      0.80      0.11         5\n",
      "           0       0.79      0.21      0.33        52\n",
      "           1       0.00      0.00      0.00        22\n",
      "\n",
      "    accuracy                           0.19        79\n",
      "   macro avg       0.28      0.34      0.15        79\n",
      "weighted avg       0.52      0.19      0.23        79\n",
      "\n"
     ]
    }
   ],
   "source": [
    "clf_test.best_score_\n",
    "cv_preds = clf_test.predict(X_test)\n",
    "print(classification_report(y_test,cv_preds))"
   ]
  },
  {
   "cell_type": "code",
   "execution_count": 215,
   "metadata": {},
   "outputs": [],
   "source": [
    "#random forrest classifier\n",
    "\n",
    "rf_pipe = Pipeline([('model', RandomForestClassifier(n_estimators = 100))])"
   ]
  },
  {
   "cell_type": "code",
   "execution_count": null,
   "metadata": {},
   "outputs": [],
   "source": []
  },
  {
   "cell_type": "code",
   "execution_count": 217,
   "metadata": {},
   "outputs": [
    {
     "data": {
      "text/html": [
       "<style>#sk-container-id-23 {color: black;background-color: white;}#sk-container-id-23 pre{padding: 0;}#sk-container-id-23 div.sk-toggleable {background-color: white;}#sk-container-id-23 label.sk-toggleable__label {cursor: pointer;display: block;width: 100%;margin-bottom: 0;padding: 0.3em;box-sizing: border-box;text-align: center;}#sk-container-id-23 label.sk-toggleable__label-arrow:before {content: \"▸\";float: left;margin-right: 0.25em;color: #696969;}#sk-container-id-23 label.sk-toggleable__label-arrow:hover:before {color: black;}#sk-container-id-23 div.sk-estimator:hover label.sk-toggleable__label-arrow:before {color: black;}#sk-container-id-23 div.sk-toggleable__content {max-height: 0;max-width: 0;overflow: hidden;text-align: left;background-color: #f0f8ff;}#sk-container-id-23 div.sk-toggleable__content pre {margin: 0.2em;color: black;border-radius: 0.25em;background-color: #f0f8ff;}#sk-container-id-23 input.sk-toggleable__control:checked~div.sk-toggleable__content {max-height: 200px;max-width: 100%;overflow: auto;}#sk-container-id-23 input.sk-toggleable__control:checked~label.sk-toggleable__label-arrow:before {content: \"▾\";}#sk-container-id-23 div.sk-estimator input.sk-toggleable__control:checked~label.sk-toggleable__label {background-color: #d4ebff;}#sk-container-id-23 div.sk-label input.sk-toggleable__control:checked~label.sk-toggleable__label {background-color: #d4ebff;}#sk-container-id-23 input.sk-hidden--visually {border: 0;clip: rect(1px 1px 1px 1px);clip: rect(1px, 1px, 1px, 1px);height: 1px;margin: -1px;overflow: hidden;padding: 0;position: absolute;width: 1px;}#sk-container-id-23 div.sk-estimator {font-family: monospace;background-color: #f0f8ff;border: 1px dotted black;border-radius: 0.25em;box-sizing: border-box;margin-bottom: 0.5em;}#sk-container-id-23 div.sk-estimator:hover {background-color: #d4ebff;}#sk-container-id-23 div.sk-parallel-item::after {content: \"\";width: 100%;border-bottom: 1px solid gray;flex-grow: 1;}#sk-container-id-23 div.sk-label:hover label.sk-toggleable__label {background-color: #d4ebff;}#sk-container-id-23 div.sk-serial::before {content: \"\";position: absolute;border-left: 1px solid gray;box-sizing: border-box;top: 0;bottom: 0;left: 50%;z-index: 0;}#sk-container-id-23 div.sk-serial {display: flex;flex-direction: column;align-items: center;background-color: white;padding-right: 0.2em;padding-left: 0.2em;position: relative;}#sk-container-id-23 div.sk-item {position: relative;z-index: 1;}#sk-container-id-23 div.sk-parallel {display: flex;align-items: stretch;justify-content: center;background-color: white;position: relative;}#sk-container-id-23 div.sk-item::before, #sk-container-id-23 div.sk-parallel-item::before {content: \"\";position: absolute;border-left: 1px solid gray;box-sizing: border-box;top: 0;bottom: 0;left: 50%;z-index: -1;}#sk-container-id-23 div.sk-parallel-item {display: flex;flex-direction: column;z-index: 1;position: relative;background-color: white;}#sk-container-id-23 div.sk-parallel-item:first-child::after {align-self: flex-end;width: 50%;}#sk-container-id-23 div.sk-parallel-item:last-child::after {align-self: flex-start;width: 50%;}#sk-container-id-23 div.sk-parallel-item:only-child::after {width: 0;}#sk-container-id-23 div.sk-dashed-wrapped {border: 1px dashed gray;margin: 0 0.4em 0.5em 0.4em;box-sizing: border-box;padding-bottom: 0.4em;background-color: white;}#sk-container-id-23 div.sk-label label {font-family: monospace;font-weight: bold;display: inline-block;line-height: 1.2em;}#sk-container-id-23 div.sk-label-container {text-align: center;}#sk-container-id-23 div.sk-container {/* jupyter's `normalize.less` sets `[hidden] { display: none; }` but bootstrap.min.css set `[hidden] { display: none !important; }` so we also need the `!important` here to be able to override the default hidden behavior on the sphinx rendered scikit-learn.org. See: https://github.com/scikit-learn/scikit-learn/issues/21755 */display: inline-block !important;position: relative;}#sk-container-id-23 div.sk-text-repr-fallback {display: none;}</style><div id=\"sk-container-id-23\" class=\"sk-top-container\"><div class=\"sk-text-repr-fallback\"><pre>GridSearchCV(cv=5,\n",
       "             estimator=Pipeline(steps=[(&#x27;model&#x27;, RandomForestClassifier())]),\n",
       "             param_grid={&#x27;model__max_depth&#x27;: [10, 15, 20, 25],\n",
       "                         &#x27;model__min_samples_leaf&#x27;: [2, 4, 7],\n",
       "                         &#x27;model__min_samples_split&#x27;: [2, 5, 15, 20],\n",
       "                         &#x27;model__n_estimators&#x27;: [50, 100, 200]})</pre><b>In a Jupyter environment, please rerun this cell to show the HTML representation or trust the notebook. <br />On GitHub, the HTML representation is unable to render, please try loading this page with nbviewer.org.</b></div><div class=\"sk-container\" hidden><div class=\"sk-item sk-dashed-wrapped\"><div class=\"sk-label-container\"><div class=\"sk-label sk-toggleable\"><input class=\"sk-toggleable__control sk-hidden--visually\" id=\"sk-estimator-id-36\" type=\"checkbox\" ><label for=\"sk-estimator-id-36\" class=\"sk-toggleable__label sk-toggleable__label-arrow\">GridSearchCV</label><div class=\"sk-toggleable__content\"><pre>GridSearchCV(cv=5,\n",
       "             estimator=Pipeline(steps=[(&#x27;model&#x27;, RandomForestClassifier())]),\n",
       "             param_grid={&#x27;model__max_depth&#x27;: [10, 15, 20, 25],\n",
       "                         &#x27;model__min_samples_leaf&#x27;: [2, 4, 7],\n",
       "                         &#x27;model__min_samples_split&#x27;: [2, 5, 15, 20],\n",
       "                         &#x27;model__n_estimators&#x27;: [50, 100, 200]})</pre></div></div></div><div class=\"sk-parallel\"><div class=\"sk-parallel-item\"><div class=\"sk-item\"><div class=\"sk-label-container\"><div class=\"sk-label sk-toggleable\"><input class=\"sk-toggleable__control sk-hidden--visually\" id=\"sk-estimator-id-37\" type=\"checkbox\" ><label for=\"sk-estimator-id-37\" class=\"sk-toggleable__label sk-toggleable__label-arrow\">estimator: Pipeline</label><div class=\"sk-toggleable__content\"><pre>Pipeline(steps=[(&#x27;model&#x27;, RandomForestClassifier())])</pre></div></div></div><div class=\"sk-serial\"><div class=\"sk-item\"><div class=\"sk-serial\"><div class=\"sk-item\"><div class=\"sk-estimator sk-toggleable\"><input class=\"sk-toggleable__control sk-hidden--visually\" id=\"sk-estimator-id-38\" type=\"checkbox\" ><label for=\"sk-estimator-id-38\" class=\"sk-toggleable__label sk-toggleable__label-arrow\">RandomForestClassifier</label><div class=\"sk-toggleable__content\"><pre>RandomForestClassifier()</pre></div></div></div></div></div></div></div></div></div></div></div></div>"
      ],
      "text/plain": [
       "GridSearchCV(cv=5,\n",
       "             estimator=Pipeline(steps=[('model', RandomForestClassifier())]),\n",
       "             param_grid={'model__max_depth': [10, 15, 20, 25],\n",
       "                         'model__min_samples_leaf': [2, 4, 7],\n",
       "                         'model__min_samples_split': [2, 5, 15, 20],\n",
       "                         'model__n_estimators': [50, 100, 200]})"
      ]
     },
     "execution_count": 217,
     "metadata": {},
     "output_type": "execute_result"
    }
   ],
   "source": [
    "rf_params = {'model__n_estimators': [50, 100, 200] ,\n",
    "             'model__min_samples_leaf': [2,4,7],\n",
    "             'model__min_samples_split': [2,5,15,20],\n",
    "            'model__max_depth':[10,15,20,25]}\n",
    "rf_cv = GridSearchCV(estimator = rf_pipe, param_grid = rf_params, cv = 5)\n",
    "rf_cv.fit(X_train, y_train)"
   ]
  },
  {
   "cell_type": "code",
   "execution_count": 218,
   "metadata": {},
   "outputs": [
    {
     "data": {
      "text/plain": [
       "0.46542658730158737"
      ]
     },
     "execution_count": 218,
     "metadata": {},
     "output_type": "execute_result"
    }
   ],
   "source": [
    "rf_cv.best_score_"
   ]
  },
  {
   "cell_type": "code",
   "execution_count": 219,
   "metadata": {
    "scrolled": true
   },
   "outputs": [
    {
     "data": {
      "text/html": [
       "<style>#sk-container-id-24 {color: black;background-color: white;}#sk-container-id-24 pre{padding: 0;}#sk-container-id-24 div.sk-toggleable {background-color: white;}#sk-container-id-24 label.sk-toggleable__label {cursor: pointer;display: block;width: 100%;margin-bottom: 0;padding: 0.3em;box-sizing: border-box;text-align: center;}#sk-container-id-24 label.sk-toggleable__label-arrow:before {content: \"▸\";float: left;margin-right: 0.25em;color: #696969;}#sk-container-id-24 label.sk-toggleable__label-arrow:hover:before {color: black;}#sk-container-id-24 div.sk-estimator:hover label.sk-toggleable__label-arrow:before {color: black;}#sk-container-id-24 div.sk-toggleable__content {max-height: 0;max-width: 0;overflow: hidden;text-align: left;background-color: #f0f8ff;}#sk-container-id-24 div.sk-toggleable__content pre {margin: 0.2em;color: black;border-radius: 0.25em;background-color: #f0f8ff;}#sk-container-id-24 input.sk-toggleable__control:checked~div.sk-toggleable__content {max-height: 200px;max-width: 100%;overflow: auto;}#sk-container-id-24 input.sk-toggleable__control:checked~label.sk-toggleable__label-arrow:before {content: \"▾\";}#sk-container-id-24 div.sk-estimator input.sk-toggleable__control:checked~label.sk-toggleable__label {background-color: #d4ebff;}#sk-container-id-24 div.sk-label input.sk-toggleable__control:checked~label.sk-toggleable__label {background-color: #d4ebff;}#sk-container-id-24 input.sk-hidden--visually {border: 0;clip: rect(1px 1px 1px 1px);clip: rect(1px, 1px, 1px, 1px);height: 1px;margin: -1px;overflow: hidden;padding: 0;position: absolute;width: 1px;}#sk-container-id-24 div.sk-estimator {font-family: monospace;background-color: #f0f8ff;border: 1px dotted black;border-radius: 0.25em;box-sizing: border-box;margin-bottom: 0.5em;}#sk-container-id-24 div.sk-estimator:hover {background-color: #d4ebff;}#sk-container-id-24 div.sk-parallel-item::after {content: \"\";width: 100%;border-bottom: 1px solid gray;flex-grow: 1;}#sk-container-id-24 div.sk-label:hover label.sk-toggleable__label {background-color: #d4ebff;}#sk-container-id-24 div.sk-serial::before {content: \"\";position: absolute;border-left: 1px solid gray;box-sizing: border-box;top: 0;bottom: 0;left: 50%;z-index: 0;}#sk-container-id-24 div.sk-serial {display: flex;flex-direction: column;align-items: center;background-color: white;padding-right: 0.2em;padding-left: 0.2em;position: relative;}#sk-container-id-24 div.sk-item {position: relative;z-index: 1;}#sk-container-id-24 div.sk-parallel {display: flex;align-items: stretch;justify-content: center;background-color: white;position: relative;}#sk-container-id-24 div.sk-item::before, #sk-container-id-24 div.sk-parallel-item::before {content: \"\";position: absolute;border-left: 1px solid gray;box-sizing: border-box;top: 0;bottom: 0;left: 50%;z-index: -1;}#sk-container-id-24 div.sk-parallel-item {display: flex;flex-direction: column;z-index: 1;position: relative;background-color: white;}#sk-container-id-24 div.sk-parallel-item:first-child::after {align-self: flex-end;width: 50%;}#sk-container-id-24 div.sk-parallel-item:last-child::after {align-self: flex-start;width: 50%;}#sk-container-id-24 div.sk-parallel-item:only-child::after {width: 0;}#sk-container-id-24 div.sk-dashed-wrapped {border: 1px dashed gray;margin: 0 0.4em 0.5em 0.4em;box-sizing: border-box;padding-bottom: 0.4em;background-color: white;}#sk-container-id-24 div.sk-label label {font-family: monospace;font-weight: bold;display: inline-block;line-height: 1.2em;}#sk-container-id-24 div.sk-label-container {text-align: center;}#sk-container-id-24 div.sk-container {/* jupyter's `normalize.less` sets `[hidden] { display: none; }` but bootstrap.min.css set `[hidden] { display: none !important; }` so we also need the `!important` here to be able to override the default hidden behavior on the sphinx rendered scikit-learn.org. See: https://github.com/scikit-learn/scikit-learn/issues/21755 */display: inline-block !important;position: relative;}#sk-container-id-24 div.sk-text-repr-fallback {display: none;}</style><div id=\"sk-container-id-24\" class=\"sk-top-container\"><div class=\"sk-text-repr-fallback\"><pre>Pipeline(steps=[(&#x27;model&#x27;,\n",
       "                 RandomForestClassifier(max_depth=15, min_samples_leaf=4,\n",
       "                                        min_samples_split=15,\n",
       "                                        n_estimators=50))])</pre><b>In a Jupyter environment, please rerun this cell to show the HTML representation or trust the notebook. <br />On GitHub, the HTML representation is unable to render, please try loading this page with nbviewer.org.</b></div><div class=\"sk-container\" hidden><div class=\"sk-item sk-dashed-wrapped\"><div class=\"sk-label-container\"><div class=\"sk-label sk-toggleable\"><input class=\"sk-toggleable__control sk-hidden--visually\" id=\"sk-estimator-id-39\" type=\"checkbox\" ><label for=\"sk-estimator-id-39\" class=\"sk-toggleable__label sk-toggleable__label-arrow\">Pipeline</label><div class=\"sk-toggleable__content\"><pre>Pipeline(steps=[(&#x27;model&#x27;,\n",
       "                 RandomForestClassifier(max_depth=15, min_samples_leaf=4,\n",
       "                                        min_samples_split=15,\n",
       "                                        n_estimators=50))])</pre></div></div></div><div class=\"sk-serial\"><div class=\"sk-item\"><div class=\"sk-estimator sk-toggleable\"><input class=\"sk-toggleable__control sk-hidden--visually\" id=\"sk-estimator-id-40\" type=\"checkbox\" ><label for=\"sk-estimator-id-40\" class=\"sk-toggleable__label sk-toggleable__label-arrow\">RandomForestClassifier</label><div class=\"sk-toggleable__content\"><pre>RandomForestClassifier(max_depth=15, min_samples_leaf=4, min_samples_split=15,\n",
       "                       n_estimators=50)</pre></div></div></div></div></div></div></div>"
      ],
      "text/plain": [
       "Pipeline(steps=[('model',\n",
       "                 RandomForestClassifier(max_depth=15, min_samples_leaf=4,\n",
       "                                        min_samples_split=15,\n",
       "                                        n_estimators=50))])"
      ]
     },
     "execution_count": 219,
     "metadata": {},
     "output_type": "execute_result"
    }
   ],
   "source": [
    "best_rf_model = rf_cv.best_estimator_\n",
    "best_rf_model"
   ]
  },
  {
   "cell_type": "code",
   "execution_count": 220,
   "metadata": {},
   "outputs": [
    {
     "data": {
      "text/html": [
       "<style>#sk-container-id-25 {color: black;background-color: white;}#sk-container-id-25 pre{padding: 0;}#sk-container-id-25 div.sk-toggleable {background-color: white;}#sk-container-id-25 label.sk-toggleable__label {cursor: pointer;display: block;width: 100%;margin-bottom: 0;padding: 0.3em;box-sizing: border-box;text-align: center;}#sk-container-id-25 label.sk-toggleable__label-arrow:before {content: \"▸\";float: left;margin-right: 0.25em;color: #696969;}#sk-container-id-25 label.sk-toggleable__label-arrow:hover:before {color: black;}#sk-container-id-25 div.sk-estimator:hover label.sk-toggleable__label-arrow:before {color: black;}#sk-container-id-25 div.sk-toggleable__content {max-height: 0;max-width: 0;overflow: hidden;text-align: left;background-color: #f0f8ff;}#sk-container-id-25 div.sk-toggleable__content pre {margin: 0.2em;color: black;border-radius: 0.25em;background-color: #f0f8ff;}#sk-container-id-25 input.sk-toggleable__control:checked~div.sk-toggleable__content {max-height: 200px;max-width: 100%;overflow: auto;}#sk-container-id-25 input.sk-toggleable__control:checked~label.sk-toggleable__label-arrow:before {content: \"▾\";}#sk-container-id-25 div.sk-estimator input.sk-toggleable__control:checked~label.sk-toggleable__label {background-color: #d4ebff;}#sk-container-id-25 div.sk-label input.sk-toggleable__control:checked~label.sk-toggleable__label {background-color: #d4ebff;}#sk-container-id-25 input.sk-hidden--visually {border: 0;clip: rect(1px 1px 1px 1px);clip: rect(1px, 1px, 1px, 1px);height: 1px;margin: -1px;overflow: hidden;padding: 0;position: absolute;width: 1px;}#sk-container-id-25 div.sk-estimator {font-family: monospace;background-color: #f0f8ff;border: 1px dotted black;border-radius: 0.25em;box-sizing: border-box;margin-bottom: 0.5em;}#sk-container-id-25 div.sk-estimator:hover {background-color: #d4ebff;}#sk-container-id-25 div.sk-parallel-item::after {content: \"\";width: 100%;border-bottom: 1px solid gray;flex-grow: 1;}#sk-container-id-25 div.sk-label:hover label.sk-toggleable__label {background-color: #d4ebff;}#sk-container-id-25 div.sk-serial::before {content: \"\";position: absolute;border-left: 1px solid gray;box-sizing: border-box;top: 0;bottom: 0;left: 50%;z-index: 0;}#sk-container-id-25 div.sk-serial {display: flex;flex-direction: column;align-items: center;background-color: white;padding-right: 0.2em;padding-left: 0.2em;position: relative;}#sk-container-id-25 div.sk-item {position: relative;z-index: 1;}#sk-container-id-25 div.sk-parallel {display: flex;align-items: stretch;justify-content: center;background-color: white;position: relative;}#sk-container-id-25 div.sk-item::before, #sk-container-id-25 div.sk-parallel-item::before {content: \"\";position: absolute;border-left: 1px solid gray;box-sizing: border-box;top: 0;bottom: 0;left: 50%;z-index: -1;}#sk-container-id-25 div.sk-parallel-item {display: flex;flex-direction: column;z-index: 1;position: relative;background-color: white;}#sk-container-id-25 div.sk-parallel-item:first-child::after {align-self: flex-end;width: 50%;}#sk-container-id-25 div.sk-parallel-item:last-child::after {align-self: flex-start;width: 50%;}#sk-container-id-25 div.sk-parallel-item:only-child::after {width: 0;}#sk-container-id-25 div.sk-dashed-wrapped {border: 1px dashed gray;margin: 0 0.4em 0.5em 0.4em;box-sizing: border-box;padding-bottom: 0.4em;background-color: white;}#sk-container-id-25 div.sk-label label {font-family: monospace;font-weight: bold;display: inline-block;line-height: 1.2em;}#sk-container-id-25 div.sk-label-container {text-align: center;}#sk-container-id-25 div.sk-container {/* jupyter's `normalize.less` sets `[hidden] { display: none; }` but bootstrap.min.css set `[hidden] { display: none !important; }` so we also need the `!important` here to be able to override the default hidden behavior on the sphinx rendered scikit-learn.org. See: https://github.com/scikit-learn/scikit-learn/issues/21755 */display: inline-block !important;position: relative;}#sk-container-id-25 div.sk-text-repr-fallback {display: none;}</style><div id=\"sk-container-id-25\" class=\"sk-top-container\"><div class=\"sk-text-repr-fallback\"><pre>Pipeline(steps=[(&#x27;model&#x27;,\n",
       "                 RandomForestClassifier(max_depth=15, min_samples_leaf=4,\n",
       "                                        min_samples_split=15,\n",
       "                                        n_estimators=50))])</pre><b>In a Jupyter environment, please rerun this cell to show the HTML representation or trust the notebook. <br />On GitHub, the HTML representation is unable to render, please try loading this page with nbviewer.org.</b></div><div class=\"sk-container\" hidden><div class=\"sk-item sk-dashed-wrapped\"><div class=\"sk-label-container\"><div class=\"sk-label sk-toggleable\"><input class=\"sk-toggleable__control sk-hidden--visually\" id=\"sk-estimator-id-41\" type=\"checkbox\" ><label for=\"sk-estimator-id-41\" class=\"sk-toggleable__label sk-toggleable__label-arrow\">Pipeline</label><div class=\"sk-toggleable__content\"><pre>Pipeline(steps=[(&#x27;model&#x27;,\n",
       "                 RandomForestClassifier(max_depth=15, min_samples_leaf=4,\n",
       "                                        min_samples_split=15,\n",
       "                                        n_estimators=50))])</pre></div></div></div><div class=\"sk-serial\"><div class=\"sk-item\"><div class=\"sk-estimator sk-toggleable\"><input class=\"sk-toggleable__control sk-hidden--visually\" id=\"sk-estimator-id-42\" type=\"checkbox\" ><label for=\"sk-estimator-id-42\" class=\"sk-toggleable__label sk-toggleable__label-arrow\">RandomForestClassifier</label><div class=\"sk-toggleable__content\"><pre>RandomForestClassifier(max_depth=15, min_samples_leaf=4, min_samples_split=15,\n",
       "                       n_estimators=50)</pre></div></div></div></div></div></div></div>"
      ],
      "text/plain": [
       "Pipeline(steps=[('model',\n",
       "                 RandomForestClassifier(max_depth=15, min_samples_leaf=4,\n",
       "                                        min_samples_split=15,\n",
       "                                        n_estimators=50))])"
      ]
     },
     "execution_count": 220,
     "metadata": {},
     "output_type": "execute_result"
    }
   ],
   "source": [
    "best_rf_model.fit(X_train, y_train)"
   ]
  },
  {
   "cell_type": "code",
   "execution_count": 221,
   "metadata": {},
   "outputs": [
    {
     "name": "stdout",
     "output_type": "stream",
     "text": [
      "Training: 0.886435331230284\n",
      "Testing: 0.6582278481012658\n",
      "              precision    recall  f1-score   support\n",
      "\n",
      "          -1       0.00      0.00      0.00         5\n",
      "           0       0.66      1.00      0.79        52\n",
      "           1       0.00      0.00      0.00        22\n",
      "\n",
      "    accuracy                           0.66        79\n",
      "   macro avg       0.22      0.33      0.26        79\n",
      "weighted avg       0.43      0.66      0.52        79\n",
      "\n"
     ]
    }
   ],
   "source": [
    "y_rfcv_pred = best_rf_model.predict(X_test)\n",
    "print('Training:', best_rf_model.score(X_train, y_train))\n",
    "print('Testing:', best_rf_model.score(X_test, y_test))\n",
    "print(classification_report(y_test,y_rfcv_pred))"
   ]
  },
  {
   "cell_type": "code",
   "execution_count": null,
   "metadata": {},
   "outputs": [],
   "source": []
  },
  {
   "cell_type": "code",
   "execution_count": null,
   "metadata": {},
   "outputs": [],
   "source": []
  },
  {
   "cell_type": "code",
   "execution_count": null,
   "metadata": {},
   "outputs": [],
   "source": []
  },
  {
   "cell_type": "code",
   "execution_count": null,
   "metadata": {},
   "outputs": [],
   "source": []
  },
  {
   "cell_type": "code",
   "execution_count": null,
   "metadata": {},
   "outputs": [],
   "source": []
  },
  {
   "cell_type": "code",
   "execution_count": null,
   "metadata": {},
   "outputs": [],
   "source": []
  }
 ],
 "metadata": {
  "kernelspec": {
   "display_name": "Python 3 (ipykernel)",
   "language": "python",
   "name": "python3"
  },
  "language_info": {
   "codemirror_mode": {
    "name": "ipython",
    "version": 3
   },
   "file_extension": ".py",
   "mimetype": "text/x-python",
   "name": "python",
   "nbconvert_exporter": "python",
   "pygments_lexer": "ipython3",
   "version": "3.11.7"
  }
 },
 "nbformat": 4,
 "nbformat_minor": 4
}
